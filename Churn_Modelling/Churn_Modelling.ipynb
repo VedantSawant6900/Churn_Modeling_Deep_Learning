{
  "nbformat": 4,
  "nbformat_minor": 0,
  "metadata": {
    "kernelspec": {
      "display_name": "Python 3",
      "language": "python",
      "name": "python3"
    },
    "language_info": {
      "codemirror_mode": {
        "name": "ipython",
        "version": 3
      },
      "file_extension": ".py",
      "mimetype": "text/x-python",
      "name": "python",
      "nbconvert_exporter": "python",
      "pygments_lexer": "ipython3",
      "version": "3.8.3"
    },
    "colab": {
      "name": "Untitled.ipynb",
      "provenance": [],
      "collapsed_sections": []
    }
  },
  "cells": [
    {
      "cell_type": "code",
      "metadata": {
        "id": "MVGOTakh8nde"
      },
      "source": [
        "import pandas as pd\n",
        "import numpy as np\n",
        "import seaborn as sns"
      ],
      "execution_count": null,
      "outputs": []
    },
    {
      "cell_type": "code",
      "metadata": {
        "colab": {
          "resources": {
            "http://localhost:8080/nbextensions/google.colab/files.js": {
              "data": "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",
              "ok": true,
              "headers": [
                [
                  "content-type",
                  "application/javascript"
                ]
              ],
              "status": 200,
              "status_text": ""
            }
          },
          "base_uri": "https://localhost:8080/",
          "height": 72
        },
        "id": "VQESCfIC8ws9",
        "outputId": "ee3ce16f-bc4c-4da7-dd9e-cf72bb320199"
      },
      "source": [
        "from google.colab import files\n",
        "fileupload=files.upload()"
      ],
      "execution_count": null,
      "outputs": [
        {
          "output_type": "display_data",
          "data": {
            "text/html": [
              "\n",
              "     <input type=\"file\" id=\"files-bb69cba9-61c4-41df-a00e-cdfeea46bf51\" name=\"files[]\" multiple disabled\n",
              "        style=\"border:none\" />\n",
              "     <output id=\"result-bb69cba9-61c4-41df-a00e-cdfeea46bf51\">\n",
              "      Upload widget is only available when the cell has been executed in the\n",
              "      current browser session. Please rerun this cell to enable.\n",
              "      </output>\n",
              "      <script src=\"/nbextensions/google.colab/files.js\"></script> "
            ],
            "text/plain": [
              "<IPython.core.display.HTML object>"
            ]
          },
          "metadata": {
            "tags": []
          }
        },
        {
          "output_type": "stream",
          "text": [
            "Saving Churn_Modelling.csv to Churn_Modelling (1).csv\n"
          ],
          "name": "stdout"
        }
      ]
    },
    {
      "cell_type": "code",
      "metadata": {
        "id": "ZBlGvdkm8ndp"
      },
      "source": [
        "df=pd.read_csv(\"Churn_Modelling.csv\")"
      ],
      "execution_count": null,
      "outputs": []
    },
    {
      "cell_type": "code",
      "metadata": {
        "colab": {
          "base_uri": "https://localhost:8080/",
          "height": 224
        },
        "id": "eGWfHIGe8ndq",
        "outputId": "adcbb85e-e392-4165-d8ae-f5c05a5ccc48"
      },
      "source": [
        "df.head()"
      ],
      "execution_count": null,
      "outputs": [
        {
          "output_type": "execute_result",
          "data": {
            "text/html": [
              "<div>\n",
              "<style scoped>\n",
              "    .dataframe tbody tr th:only-of-type {\n",
              "        vertical-align: middle;\n",
              "    }\n",
              "\n",
              "    .dataframe tbody tr th {\n",
              "        vertical-align: top;\n",
              "    }\n",
              "\n",
              "    .dataframe thead th {\n",
              "        text-align: right;\n",
              "    }\n",
              "</style>\n",
              "<table border=\"1\" class=\"dataframe\">\n",
              "  <thead>\n",
              "    <tr style=\"text-align: right;\">\n",
              "      <th></th>\n",
              "      <th>RowNumber</th>\n",
              "      <th>CustomerId</th>\n",
              "      <th>Surname</th>\n",
              "      <th>CreditScore</th>\n",
              "      <th>Geography</th>\n",
              "      <th>Gender</th>\n",
              "      <th>Age</th>\n",
              "      <th>Tenure</th>\n",
              "      <th>Balance</th>\n",
              "      <th>NumOfProducts</th>\n",
              "      <th>HasCrCard</th>\n",
              "      <th>IsActiveMember</th>\n",
              "      <th>EstimatedSalary</th>\n",
              "      <th>Exited</th>\n",
              "    </tr>\n",
              "  </thead>\n",
              "  <tbody>\n",
              "    <tr>\n",
              "      <th>0</th>\n",
              "      <td>1</td>\n",
              "      <td>15634602</td>\n",
              "      <td>Hargrave</td>\n",
              "      <td>619</td>\n",
              "      <td>France</td>\n",
              "      <td>Female</td>\n",
              "      <td>42</td>\n",
              "      <td>2</td>\n",
              "      <td>0.00</td>\n",
              "      <td>1</td>\n",
              "      <td>1</td>\n",
              "      <td>1</td>\n",
              "      <td>101348.88</td>\n",
              "      <td>1</td>\n",
              "    </tr>\n",
              "    <tr>\n",
              "      <th>1</th>\n",
              "      <td>2</td>\n",
              "      <td>15647311</td>\n",
              "      <td>Hill</td>\n",
              "      <td>608</td>\n",
              "      <td>Spain</td>\n",
              "      <td>Female</td>\n",
              "      <td>41</td>\n",
              "      <td>1</td>\n",
              "      <td>83807.86</td>\n",
              "      <td>1</td>\n",
              "      <td>0</td>\n",
              "      <td>1</td>\n",
              "      <td>112542.58</td>\n",
              "      <td>0</td>\n",
              "    </tr>\n",
              "    <tr>\n",
              "      <th>2</th>\n",
              "      <td>3</td>\n",
              "      <td>15619304</td>\n",
              "      <td>Onio</td>\n",
              "      <td>502</td>\n",
              "      <td>France</td>\n",
              "      <td>Female</td>\n",
              "      <td>42</td>\n",
              "      <td>8</td>\n",
              "      <td>159660.80</td>\n",
              "      <td>3</td>\n",
              "      <td>1</td>\n",
              "      <td>0</td>\n",
              "      <td>113931.57</td>\n",
              "      <td>1</td>\n",
              "    </tr>\n",
              "    <tr>\n",
              "      <th>3</th>\n",
              "      <td>4</td>\n",
              "      <td>15701354</td>\n",
              "      <td>Boni</td>\n",
              "      <td>699</td>\n",
              "      <td>France</td>\n",
              "      <td>Female</td>\n",
              "      <td>39</td>\n",
              "      <td>1</td>\n",
              "      <td>0.00</td>\n",
              "      <td>2</td>\n",
              "      <td>0</td>\n",
              "      <td>0</td>\n",
              "      <td>93826.63</td>\n",
              "      <td>0</td>\n",
              "    </tr>\n",
              "    <tr>\n",
              "      <th>4</th>\n",
              "      <td>5</td>\n",
              "      <td>15737888</td>\n",
              "      <td>Mitchell</td>\n",
              "      <td>850</td>\n",
              "      <td>Spain</td>\n",
              "      <td>Female</td>\n",
              "      <td>43</td>\n",
              "      <td>2</td>\n",
              "      <td>125510.82</td>\n",
              "      <td>1</td>\n",
              "      <td>1</td>\n",
              "      <td>1</td>\n",
              "      <td>79084.10</td>\n",
              "      <td>0</td>\n",
              "    </tr>\n",
              "  </tbody>\n",
              "</table>\n",
              "</div>"
            ],
            "text/plain": [
              "   RowNumber  CustomerId   Surname  ...  IsActiveMember EstimatedSalary Exited\n",
              "0          1    15634602  Hargrave  ...               1       101348.88      1\n",
              "1          2    15647311      Hill  ...               1       112542.58      0\n",
              "2          3    15619304      Onio  ...               0       113931.57      1\n",
              "3          4    15701354      Boni  ...               0        93826.63      0\n",
              "4          5    15737888  Mitchell  ...               1        79084.10      0\n",
              "\n",
              "[5 rows x 14 columns]"
            ]
          },
          "metadata": {
            "tags": []
          },
          "execution_count": 242
        }
      ]
    },
    {
      "cell_type": "code",
      "metadata": {
        "id": "kTupJzdI8ndu"
      },
      "source": [
        "df=df.drop(columns=['RowNumber','CustomerId','Surname'])"
      ],
      "execution_count": null,
      "outputs": []
    },
    {
      "cell_type": "code",
      "metadata": {
        "colab": {
          "base_uri": "https://localhost:8080/",
          "height": 204
        },
        "id": "PI12bZbl8ndu",
        "outputId": "037e70d0-e6b6-4451-b017-5713eac27fb3"
      },
      "source": [
        "df.head()"
      ],
      "execution_count": null,
      "outputs": [
        {
          "output_type": "execute_result",
          "data": {
            "text/html": [
              "<div>\n",
              "<style scoped>\n",
              "    .dataframe tbody tr th:only-of-type {\n",
              "        vertical-align: middle;\n",
              "    }\n",
              "\n",
              "    .dataframe tbody tr th {\n",
              "        vertical-align: top;\n",
              "    }\n",
              "\n",
              "    .dataframe thead th {\n",
              "        text-align: right;\n",
              "    }\n",
              "</style>\n",
              "<table border=\"1\" class=\"dataframe\">\n",
              "  <thead>\n",
              "    <tr style=\"text-align: right;\">\n",
              "      <th></th>\n",
              "      <th>CreditScore</th>\n",
              "      <th>Geography</th>\n",
              "      <th>Gender</th>\n",
              "      <th>Age</th>\n",
              "      <th>Tenure</th>\n",
              "      <th>Balance</th>\n",
              "      <th>NumOfProducts</th>\n",
              "      <th>HasCrCard</th>\n",
              "      <th>IsActiveMember</th>\n",
              "      <th>EstimatedSalary</th>\n",
              "      <th>Exited</th>\n",
              "    </tr>\n",
              "  </thead>\n",
              "  <tbody>\n",
              "    <tr>\n",
              "      <th>0</th>\n",
              "      <td>619</td>\n",
              "      <td>France</td>\n",
              "      <td>Female</td>\n",
              "      <td>42</td>\n",
              "      <td>2</td>\n",
              "      <td>0.00</td>\n",
              "      <td>1</td>\n",
              "      <td>1</td>\n",
              "      <td>1</td>\n",
              "      <td>101348.88</td>\n",
              "      <td>1</td>\n",
              "    </tr>\n",
              "    <tr>\n",
              "      <th>1</th>\n",
              "      <td>608</td>\n",
              "      <td>Spain</td>\n",
              "      <td>Female</td>\n",
              "      <td>41</td>\n",
              "      <td>1</td>\n",
              "      <td>83807.86</td>\n",
              "      <td>1</td>\n",
              "      <td>0</td>\n",
              "      <td>1</td>\n",
              "      <td>112542.58</td>\n",
              "      <td>0</td>\n",
              "    </tr>\n",
              "    <tr>\n",
              "      <th>2</th>\n",
              "      <td>502</td>\n",
              "      <td>France</td>\n",
              "      <td>Female</td>\n",
              "      <td>42</td>\n",
              "      <td>8</td>\n",
              "      <td>159660.80</td>\n",
              "      <td>3</td>\n",
              "      <td>1</td>\n",
              "      <td>0</td>\n",
              "      <td>113931.57</td>\n",
              "      <td>1</td>\n",
              "    </tr>\n",
              "    <tr>\n",
              "      <th>3</th>\n",
              "      <td>699</td>\n",
              "      <td>France</td>\n",
              "      <td>Female</td>\n",
              "      <td>39</td>\n",
              "      <td>1</td>\n",
              "      <td>0.00</td>\n",
              "      <td>2</td>\n",
              "      <td>0</td>\n",
              "      <td>0</td>\n",
              "      <td>93826.63</td>\n",
              "      <td>0</td>\n",
              "    </tr>\n",
              "    <tr>\n",
              "      <th>4</th>\n",
              "      <td>850</td>\n",
              "      <td>Spain</td>\n",
              "      <td>Female</td>\n",
              "      <td>43</td>\n",
              "      <td>2</td>\n",
              "      <td>125510.82</td>\n",
              "      <td>1</td>\n",
              "      <td>1</td>\n",
              "      <td>1</td>\n",
              "      <td>79084.10</td>\n",
              "      <td>0</td>\n",
              "    </tr>\n",
              "  </tbody>\n",
              "</table>\n",
              "</div>"
            ],
            "text/plain": [
              "   CreditScore Geography  Gender  ...  IsActiveMember  EstimatedSalary  Exited\n",
              "0          619    France  Female  ...               1        101348.88       1\n",
              "1          608     Spain  Female  ...               1        112542.58       0\n",
              "2          502    France  Female  ...               0        113931.57       1\n",
              "3          699    France  Female  ...               0         93826.63       0\n",
              "4          850     Spain  Female  ...               1         79084.10       0\n",
              "\n",
              "[5 rows x 11 columns]"
            ]
          },
          "metadata": {
            "tags": []
          },
          "execution_count": 244
        }
      ]
    },
    {
      "cell_type": "code",
      "metadata": {
        "colab": {
          "base_uri": "https://localhost:8080/"
        },
        "id": "rfkFejey8ndw",
        "outputId": "77cd0dc9-66bd-46f0-b378-c3cc423ac4ee"
      },
      "source": [
        "df.isnull().sum()"
      ],
      "execution_count": null,
      "outputs": [
        {
          "output_type": "execute_result",
          "data": {
            "text/plain": [
              "CreditScore        0\n",
              "Geography          0\n",
              "Gender             0\n",
              "Age                0\n",
              "Tenure             0\n",
              "Balance            0\n",
              "NumOfProducts      0\n",
              "HasCrCard          0\n",
              "IsActiveMember     0\n",
              "EstimatedSalary    0\n",
              "Exited             0\n",
              "dtype: int64"
            ]
          },
          "metadata": {
            "tags": []
          },
          "execution_count": 245
        }
      ]
    },
    {
      "cell_type": "code",
      "metadata": {
        "colab": {
          "base_uri": "https://localhost:8080/"
        },
        "id": "zWjiJ0iM8ndx",
        "outputId": "0f738f4b-4e93-4346-aa7c-a31c5da1c549"
      },
      "source": [
        "df.isna().sum()"
      ],
      "execution_count": null,
      "outputs": [
        {
          "output_type": "execute_result",
          "data": {
            "text/plain": [
              "CreditScore        0\n",
              "Geography          0\n",
              "Gender             0\n",
              "Age                0\n",
              "Tenure             0\n",
              "Balance            0\n",
              "NumOfProducts      0\n",
              "HasCrCard          0\n",
              "IsActiveMember     0\n",
              "EstimatedSalary    0\n",
              "Exited             0\n",
              "dtype: int64"
            ]
          },
          "metadata": {
            "tags": []
          },
          "execution_count": 246
        }
      ]
    },
    {
      "cell_type": "code",
      "metadata": {
        "colab": {
          "base_uri": "https://localhost:8080/"
        },
        "id": "k4lYqckX8ndy",
        "outputId": "740e2edb-eca8-4049-967a-1915c9ad2bbd"
      },
      "source": [
        "df.info()"
      ],
      "execution_count": null,
      "outputs": [
        {
          "output_type": "stream",
          "text": [
            "<class 'pandas.core.frame.DataFrame'>\n",
            "RangeIndex: 10000 entries, 0 to 9999\n",
            "Data columns (total 11 columns):\n",
            " #   Column           Non-Null Count  Dtype  \n",
            "---  ------           --------------  -----  \n",
            " 0   CreditScore      10000 non-null  int64  \n",
            " 1   Geography        10000 non-null  object \n",
            " 2   Gender           10000 non-null  object \n",
            " 3   Age              10000 non-null  int64  \n",
            " 4   Tenure           10000 non-null  int64  \n",
            " 5   Balance          10000 non-null  float64\n",
            " 6   NumOfProducts    10000 non-null  int64  \n",
            " 7   HasCrCard        10000 non-null  int64  \n",
            " 8   IsActiveMember   10000 non-null  int64  \n",
            " 9   EstimatedSalary  10000 non-null  float64\n",
            " 10  Exited           10000 non-null  int64  \n",
            "dtypes: float64(2), int64(7), object(2)\n",
            "memory usage: 859.5+ KB\n"
          ],
          "name": "stdout"
        }
      ]
    },
    {
      "cell_type": "code",
      "metadata": {
        "colab": {
          "base_uri": "https://localhost:8080/",
          "height": 278
        },
        "id": "ofFIgSygVE3Y",
        "outputId": "6e920239-49d2-4078-8461-39e150ab1846"
      },
      "source": [
        "df['Exited'].value_counts().plot(kind='bar')\n",
        "plt.title(\"Exited\")\n",
        "plt.show()"
      ],
      "execution_count": null,
      "outputs": [
        {
          "output_type": "display_data",
          "data": {
            "image/png": "[encoded data removed]",
            "text/plain": [
              "<Figure size 432x288 with 1 Axes>"
            ]
          },
          "metadata": {
            "tags": [],
            "needs_background": "light"
          }
        }
      ]
    },
    {
      "cell_type": "code",
      "metadata": {
        "colab": {
          "base_uri": "https://localhost:8080/",
          "height": 278
        },
        "id": "G2mFNwYPaIQ4",
        "outputId": "3016501b-a52c-4a3b-9d38-9fae3cfc455d"
      },
      "source": [
        "df[df['Gender']=='Female']['Exited'].value_counts().plot(kind='bar')\n",
        "plt.title(\"Female exited Status\")\n",
        "plt.show()"
      ],
      "execution_count": null,
      "outputs": [
        {
          "output_type": "display_data",
          "data": {
            "image/png": "[encoded data removed]",
            "text/plain": [
              "<Figure size 432x288 with 1 Axes>"
            ]
          },
          "metadata": {
            "tags": [],
            "needs_background": "light"
          }
        }
      ]
    },
    {
      "cell_type": "code",
      "metadata": {
        "colab": {
          "base_uri": "https://localhost:8080/",
          "height": 278
        },
        "id": "SYrIn3riawp7",
        "outputId": "a2d16ad6-cc06-4d0a-de46-747275a934b4"
      },
      "source": [
        "df[df['Gender']=='Male']['Exited'].value_counts().plot(kind='bar')\n",
        "plt.title(\"Female exited Status\")\n",
        "plt.show()"
      ],
      "execution_count": null,
      "outputs": [
        {
          "output_type": "display_data",
          "data": {
            "image/png": "[encoded data removed]",
            "text/plain": [
              "<Figure size 432x288 with 1 Axes>"
            ]
          },
          "metadata": {
            "tags": [],
            "needs_background": "light"
          }
        }
      ]
    },
    {
      "cell_type": "code",
      "metadata": {
        "colab": {
          "base_uri": "https://localhost:8080/",
          "height": 679
        },
        "id": "6UE5AMFjWE5U",
        "outputId": "0bef9d50-7170-4809-bc95-169e1cd7c005"
      },
      "source": [
        "Var_Corr = df.corr()\n",
        "plt.figure(figsize=[10,10])\n",
        "sns.heatmap(Var_Corr, xticklabels=Var_Corr.columns, yticklabels=Var_Corr.columns, annot=True)\n",
        "plt.title(\"Correlation heatmap\")\n",
        "plt.show()"
      ],
      "execution_count": null,
      "outputs": [
        {
          "output_type": "display_data",
          "data": {
            "image/png": "[encoded data removed]",
            "text/plain": [
              "<Figure size 720x720 with 2 Axes>"
            ]
          },
          "metadata": {
            "tags": [],
            "needs_background": "light"
          }
        }
      ]
    },
    {
      "cell_type": "code",
      "metadata": {
        "id": "gNQ_-9Wy8ndz"
      },
      "source": [
        "from sklearn.preprocessing import LabelEncoder"
      ],
      "execution_count": null,
      "outputs": []
    },
    {
      "cell_type": "code",
      "metadata": {
        "id": "jCf6gNvI8nd1"
      },
      "source": [
        "le=LabelEncoder()"
      ],
      "execution_count": null,
      "outputs": []
    },
    {
      "cell_type": "code",
      "metadata": {
        "id": "ztufDs_u8nd1"
      },
      "source": [
        "df_cat=df.select_dtypes('object')\n",
        "df_num=df.select_dtypes(['float64','int64'])"
      ],
      "execution_count": null,
      "outputs": []
    },
    {
      "cell_type": "code",
      "metadata": {
        "colab": {
          "base_uri": "https://localhost:8080/"
        },
        "id": "-HKFc8-g8nd2",
        "outputId": "f1ad2872-c516-4c32-8919-680f5f0578fd"
      },
      "source": [
        "for col in df_cat:\n",
        "    df_cat[col]=le.fit_transform(df_cat[col])"
      ],
      "execution_count": null,
      "outputs": [
        {
          "output_type": "stream",
          "text": [
            "/usr/local/lib/python3.7/dist-packages/ipykernel_launcher.py:2: SettingWithCopyWarning: \n",
            "A value is trying to be set on a copy of a slice from a DataFrame.\n",
            "Try using .loc[row_indexer,col_indexer] = value instead\n",
            "\n",
            "See the caveats in the documentation: https://pandas.pydata.org/pandas-docs/stable/user_guide/indexing.html#returning-a-view-versus-a-copy\n",
            "  \n"
          ],
          "name": "stderr"
        }
      ]
    },
    {
      "cell_type": "code",
      "metadata": {
        "colab": {
          "base_uri": "https://localhost:8080/",
          "height": 204
        },
        "id": "kYoNWNgk8nd2",
        "outputId": "3aca30db-3f03-4729-aec0-d5062dfda91c"
      },
      "source": [
        "df_cat.head()"
      ],
      "execution_count": null,
      "outputs": [
        {
          "output_type": "execute_result",
          "data": {
            "text/html": [
              "<div>\n",
              "<style scoped>\n",
              "    .dataframe tbody tr th:only-of-type {\n",
              "        vertical-align: middle;\n",
              "    }\n",
              "\n",
              "    .dataframe tbody tr th {\n",
              "        vertical-align: top;\n",
              "    }\n",
              "\n",
              "    .dataframe thead th {\n",
              "        text-align: right;\n",
              "    }\n",
              "</style>\n",
              "<table border=\"1\" class=\"dataframe\">\n",
              "  <thead>\n",
              "    <tr style=\"text-align: right;\">\n",
              "      <th></th>\n",
              "      <th>Geography</th>\n",
              "      <th>Gender</th>\n",
              "    </tr>\n",
              "  </thead>\n",
              "  <tbody>\n",
              "    <tr>\n",
              "      <th>0</th>\n",
              "      <td>0</td>\n",
              "      <td>0</td>\n",
              "    </tr>\n",
              "    <tr>\n",
              "      <th>1</th>\n",
              "      <td>2</td>\n",
              "      <td>0</td>\n",
              "    </tr>\n",
              "    <tr>\n",
              "      <th>2</th>\n",
              "      <td>0</td>\n",
              "      <td>0</td>\n",
              "    </tr>\n",
              "    <tr>\n",
              "      <th>3</th>\n",
              "      <td>0</td>\n",
              "      <td>0</td>\n",
              "    </tr>\n",
              "    <tr>\n",
              "      <th>4</th>\n",
              "      <td>2</td>\n",
              "      <td>0</td>\n",
              "    </tr>\n",
              "  </tbody>\n",
              "</table>\n",
              "</div>"
            ],
            "text/plain": [
              "   Geography  Gender\n",
              "0          0       0\n",
              "1          2       0\n",
              "2          0       0\n",
              "3          0       0\n",
              "4          2       0"
            ]
          },
          "metadata": {
            "tags": []
          },
          "execution_count": 256
        }
      ]
    },
    {
      "cell_type": "code",
      "metadata": {
        "id": "nbXgc7oT8nd3"
      },
      "source": [
        "df_new=pd.concat([df_num,df_cat],axis=1)"
      ],
      "execution_count": null,
      "outputs": []
    },
    {
      "cell_type": "code",
      "metadata": {
        "colab": {
          "base_uri": "https://localhost:8080/",
          "height": 204
        },
        "id": "QQzPmxoC8nd4",
        "outputId": "83167a08-d9be-443d-a4c2-802f73bdeb7e"
      },
      "source": [
        "df_new.head()"
      ],
      "execution_count": null,
      "outputs": [
        {
          "output_type": "execute_result",
          "data": {
            "text/html": [
              "<div>\n",
              "<style scoped>\n",
              "    .dataframe tbody tr th:only-of-type {\n",
              "        vertical-align: middle;\n",
              "    }\n",
              "\n",
              "    .dataframe tbody tr th {\n",
              "        vertical-align: top;\n",
              "    }\n",
              "\n",
              "    .dataframe thead th {\n",
              "        text-align: right;\n",
              "    }\n",
              "</style>\n",
              "<table border=\"1\" class=\"dataframe\">\n",
              "  <thead>\n",
              "    <tr style=\"text-align: right;\">\n",
              "      <th></th>\n",
              "      <th>CreditScore</th>\n",
              "      <th>Age</th>\n",
              "      <th>Tenure</th>\n",
              "      <th>Balance</th>\n",
              "      <th>NumOfProducts</th>\n",
              "      <th>HasCrCard</th>\n",
              "      <th>IsActiveMember</th>\n",
              "      <th>EstimatedSalary</th>\n",
              "      <th>Exited</th>\n",
              "      <th>Geography</th>\n",
              "      <th>Gender</th>\n",
              "    </tr>\n",
              "  </thead>\n",
              "  <tbody>\n",
              "    <tr>\n",
              "      <th>0</th>\n",
              "      <td>619</td>\n",
              "      <td>42</td>\n",
              "      <td>2</td>\n",
              "      <td>0.00</td>\n",
              "      <td>1</td>\n",
              "      <td>1</td>\n",
              "      <td>1</td>\n",
              "      <td>101348.88</td>\n",
              "      <td>1</td>\n",
              "      <td>0</td>\n",
              "      <td>0</td>\n",
              "    </tr>\n",
              "    <tr>\n",
              "      <th>1</th>\n",
              "      <td>608</td>\n",
              "      <td>41</td>\n",
              "      <td>1</td>\n",
              "      <td>83807.86</td>\n",
              "      <td>1</td>\n",
              "      <td>0</td>\n",
              "      <td>1</td>\n",
              "      <td>112542.58</td>\n",
              "      <td>0</td>\n",
              "      <td>2</td>\n",
              "      <td>0</td>\n",
              "    </tr>\n",
              "    <tr>\n",
              "      <th>2</th>\n",
              "      <td>502</td>\n",
              "      <td>42</td>\n",
              "      <td>8</td>\n",
              "      <td>159660.80</td>\n",
              "      <td>3</td>\n",
              "      <td>1</td>\n",
              "      <td>0</td>\n",
              "      <td>113931.57</td>\n",
              "      <td>1</td>\n",
              "      <td>0</td>\n",
              "      <td>0</td>\n",
              "    </tr>\n",
              "    <tr>\n",
              "      <th>3</th>\n",
              "      <td>699</td>\n",
              "      <td>39</td>\n",
              "      <td>1</td>\n",
              "      <td>0.00</td>\n",
              "      <td>2</td>\n",
              "      <td>0</td>\n",
              "      <td>0</td>\n",
              "      <td>93826.63</td>\n",
              "      <td>0</td>\n",
              "      <td>0</td>\n",
              "      <td>0</td>\n",
              "    </tr>\n",
              "    <tr>\n",
              "      <th>4</th>\n",
              "      <td>850</td>\n",
              "      <td>43</td>\n",
              "      <td>2</td>\n",
              "      <td>125510.82</td>\n",
              "      <td>1</td>\n",
              "      <td>1</td>\n",
              "      <td>1</td>\n",
              "      <td>79084.10</td>\n",
              "      <td>0</td>\n",
              "      <td>2</td>\n",
              "      <td>0</td>\n",
              "    </tr>\n",
              "  </tbody>\n",
              "</table>\n",
              "</div>"
            ],
            "text/plain": [
              "   CreditScore  Age  Tenure  ...  Exited  Geography  Gender\n",
              "0          619   42       2  ...       1          0       0\n",
              "1          608   41       1  ...       0          2       0\n",
              "2          502   42       8  ...       1          0       0\n",
              "3          699   39       1  ...       0          0       0\n",
              "4          850   43       2  ...       0          2       0\n",
              "\n",
              "[5 rows x 11 columns]"
            ]
          },
          "metadata": {
            "tags": []
          },
          "execution_count": 258
        }
      ]
    },
    {
      "cell_type": "code",
      "metadata": {
        "id": "zb0G47rP8nd4"
      },
      "source": [
        "from sklearn.preprocessing import StandardScaler"
      ],
      "execution_count": null,
      "outputs": []
    },
    {
      "cell_type": "code",
      "metadata": {
        "id": "WujWPI7I8nd5"
      },
      "source": [
        "x=df_new.drop('Exited',axis=1)\n",
        "y=df_new['Exited']"
      ],
      "execution_count": null,
      "outputs": []
    },
    {
      "cell_type": "code",
      "metadata": {
        "id": "Cdm-hTwP8nd5"
      },
      "source": [
        "ss=StandardScaler()\n",
        "x=ss.fit_transform(x)"
      ],
      "execution_count": null,
      "outputs": []
    },
    {
      "cell_type": "code",
      "metadata": {
        "id": "1Z2DQ6m78nd5"
      },
      "source": [
        "from sklearn.model_selection import train_test_split"
      ],
      "execution_count": null,
      "outputs": []
    },
    {
      "cell_type": "code",
      "metadata": {
        "id": "dHp0KwYD8nd6"
      },
      "source": [
        "xtrain,xtest,ytrain,ytest=train_test_split(x,y,test_size=0.3,random_state=0)"
      ],
      "execution_count": null,
      "outputs": []
    },
    {
      "cell_type": "code",
      "metadata": {
        "id": "OTrFr1Sz8nd6"
      },
      "source": [
        "import tensorflow as tf"
      ],
      "execution_count": null,
      "outputs": []
    },
    {
      "cell_type": "markdown",
      "metadata": {
        "id": "mlBZ3cTSunxO"
      },
      "source": [
        "2 ****LAYERS****"
      ]
    },
    {
      "cell_type": "code",
      "metadata": {
        "id": "xG9vB8Q192IN"
      },
      "source": [
        "model=tf.keras.Sequential([\n",
        "                           tf.keras.layers.Dense(11,activation=\"relu\",input_shape=(x.shape[1],)),\n",
        "                           tf.keras.layers.Dropout(0.2),\n",
        "                           tf.keras.layers.Dense(1,activation=\"sigmoid\")\n",
        "                           \n",
        "])"
      ],
      "execution_count": null,
      "outputs": []
    },
    {
      "cell_type": "code",
      "metadata": {
        "id": "ber6HvCM-rJg"
      },
      "source": [
        "model.compile(optimizer='adam',loss='binary_crossentropy',metrics=['binary_accuracy'])"
      ],
      "execution_count": null,
      "outputs": []
    },
    {
      "cell_type": "code",
      "metadata": {
        "colab": {
          "base_uri": "https://localhost:8080/"
        },
        "id": "fW_TzPY1-zAY",
        "outputId": "d18e29bd-220d-4c33-eda9-b8efdff12a74"
      },
      "source": [
        "trainedmodel=model.fit(xtrain,ytrain,batch_size=50,epochs=100,validation_split=0.2)"
      ],
      "execution_count": null,
      "outputs": [
        {
          "output_type": "stream",
          "text": [
            "Epoch 1/100\n",
            "112/112 [==============================] - 1s 3ms/step - loss: 1.2035 - binary_accuracy: 0.3256 - val_loss: 0.8064 - val_binary_accuracy: 0.4793\n",
            "Epoch 2/100\n",
            "112/112 [==============================] - 0s 2ms/step - loss: 0.7455 - binary_accuracy: 0.5351 - val_loss: 0.5861 - val_binary_accuracy: 0.7129\n",
            "Epoch 3/100\n",
            "112/112 [==============================] - 0s 2ms/step - loss: 0.5899 - binary_accuracy: 0.6933 - val_loss: 0.5024 - val_binary_accuracy: 0.7871\n",
            "Epoch 4/100\n",
            "112/112 [==============================] - 0s 2ms/step - loss: 0.5219 - binary_accuracy: 0.7652 - val_loss: 0.4677 - val_binary_accuracy: 0.7929\n",
            "Epoch 5/100\n",
            "112/112 [==============================] - 0s 2ms/step - loss: 0.4974 - binary_accuracy: 0.7804 - val_loss: 0.4507 - val_binary_accuracy: 0.8014\n",
            "Epoch 6/100\n",
            "112/112 [==============================] - 0s 2ms/step - loss: 0.4714 - binary_accuracy: 0.7942 - val_loss: 0.4411 - val_binary_accuracy: 0.8050\n",
            "Epoch 7/100\n",
            "112/112 [==============================] - 0s 2ms/step - loss: 0.4775 - binary_accuracy: 0.7907 - val_loss: 0.4340 - val_binary_accuracy: 0.8057\n",
            "Epoch 8/100\n",
            "112/112 [==============================] - 0s 2ms/step - loss: 0.4604 - binary_accuracy: 0.8016 - val_loss: 0.4291 - val_binary_accuracy: 0.8093\n",
            "Epoch 9/100\n",
            "112/112 [==============================] - 0s 2ms/step - loss: 0.4517 - binary_accuracy: 0.7993 - val_loss: 0.4246 - val_binary_accuracy: 0.8143\n",
            "Epoch 10/100\n",
            "112/112 [==============================] - 0s 2ms/step - loss: 0.4513 - binary_accuracy: 0.8028 - val_loss: 0.4206 - val_binary_accuracy: 0.8179\n",
            "Epoch 11/100\n",
            "112/112 [==============================] - 0s 2ms/step - loss: 0.4319 - binary_accuracy: 0.8146 - val_loss: 0.4172 - val_binary_accuracy: 0.8186\n",
            "Epoch 12/100\n",
            "112/112 [==============================] - 0s 2ms/step - loss: 0.4331 - binary_accuracy: 0.8125 - val_loss: 0.4136 - val_binary_accuracy: 0.8214\n",
            "Epoch 13/100\n",
            "112/112 [==============================] - 0s 2ms/step - loss: 0.4384 - binary_accuracy: 0.8152 - val_loss: 0.4104 - val_binary_accuracy: 0.8264\n",
            "Epoch 14/100\n",
            "112/112 [==============================] - 0s 2ms/step - loss: 0.4289 - binary_accuracy: 0.8198 - val_loss: 0.4077 - val_binary_accuracy: 0.8271\n",
            "Epoch 15/100\n",
            "112/112 [==============================] - 0s 2ms/step - loss: 0.4170 - binary_accuracy: 0.8263 - val_loss: 0.4052 - val_binary_accuracy: 0.8293\n",
            "Epoch 16/100\n",
            "112/112 [==============================] - 0s 2ms/step - loss: 0.4077 - binary_accuracy: 0.8367 - val_loss: 0.4027 - val_binary_accuracy: 0.8286\n",
            "Epoch 17/100\n",
            "112/112 [==============================] - 0s 2ms/step - loss: 0.4090 - binary_accuracy: 0.8275 - val_loss: 0.4003 - val_binary_accuracy: 0.8257\n",
            "Epoch 18/100\n",
            "112/112 [==============================] - 0s 2ms/step - loss: 0.4131 - binary_accuracy: 0.8301 - val_loss: 0.3973 - val_binary_accuracy: 0.8279\n",
            "Epoch 19/100\n",
            "112/112 [==============================] - 0s 2ms/step - loss: 0.4155 - binary_accuracy: 0.8286 - val_loss: 0.3944 - val_binary_accuracy: 0.8307\n",
            "Epoch 20/100\n",
            "112/112 [==============================] - 0s 2ms/step - loss: 0.4012 - binary_accuracy: 0.8314 - val_loss: 0.3920 - val_binary_accuracy: 0.8300\n",
            "Epoch 21/100\n",
            "112/112 [==============================] - 0s 2ms/step - loss: 0.4019 - binary_accuracy: 0.8291 - val_loss: 0.3897 - val_binary_accuracy: 0.8350\n",
            "Epoch 22/100\n",
            "112/112 [==============================] - 0s 2ms/step - loss: 0.3997 - binary_accuracy: 0.8298 - val_loss: 0.3876 - val_binary_accuracy: 0.8350\n",
            "Epoch 23/100\n",
            "112/112 [==============================] - 0s 2ms/step - loss: 0.4079 - binary_accuracy: 0.8234 - val_loss: 0.3853 - val_binary_accuracy: 0.8336\n",
            "Epoch 24/100\n",
            "112/112 [==============================] - 0s 2ms/step - loss: 0.4055 - binary_accuracy: 0.8313 - val_loss: 0.3831 - val_binary_accuracy: 0.8350\n",
            "Epoch 25/100\n",
            "112/112 [==============================] - 0s 2ms/step - loss: 0.3905 - binary_accuracy: 0.8364 - val_loss: 0.3807 - val_binary_accuracy: 0.8379\n",
            "Epoch 26/100\n",
            "112/112 [==============================] - 0s 2ms/step - loss: 0.3967 - binary_accuracy: 0.8320 - val_loss: 0.3784 - val_binary_accuracy: 0.8393\n",
            "Epoch 27/100\n",
            "112/112 [==============================] - 0s 2ms/step - loss: 0.3963 - binary_accuracy: 0.8374 - val_loss: 0.3767 - val_binary_accuracy: 0.8436\n",
            "Epoch 28/100\n",
            "112/112 [==============================] - 0s 2ms/step - loss: 0.3881 - binary_accuracy: 0.8394 - val_loss: 0.3745 - val_binary_accuracy: 0.8436\n",
            "Epoch 29/100\n",
            "112/112 [==============================] - 0s 2ms/step - loss: 0.3940 - binary_accuracy: 0.8340 - val_loss: 0.3737 - val_binary_accuracy: 0.8443\n",
            "Epoch 30/100\n",
            "112/112 [==============================] - 0s 2ms/step - loss: 0.3834 - binary_accuracy: 0.8395 - val_loss: 0.3722 - val_binary_accuracy: 0.8457\n",
            "Epoch 31/100\n",
            "112/112 [==============================] - 0s 2ms/step - loss: 0.3840 - binary_accuracy: 0.8370 - val_loss: 0.3712 - val_binary_accuracy: 0.8464\n",
            "Epoch 32/100\n",
            "112/112 [==============================] - 0s 2ms/step - loss: 0.3785 - binary_accuracy: 0.8450 - val_loss: 0.3704 - val_binary_accuracy: 0.8464\n",
            "Epoch 33/100\n",
            "112/112 [==============================] - 0s 2ms/step - loss: 0.3799 - binary_accuracy: 0.8417 - val_loss: 0.3693 - val_binary_accuracy: 0.8479\n",
            "Epoch 34/100\n",
            "112/112 [==============================] - 0s 2ms/step - loss: 0.3902 - binary_accuracy: 0.8356 - val_loss: 0.3687 - val_binary_accuracy: 0.8479\n",
            "Epoch 35/100\n",
            "112/112 [==============================] - 0s 2ms/step - loss: 0.3785 - binary_accuracy: 0.8431 - val_loss: 0.3676 - val_binary_accuracy: 0.8500\n",
            "Epoch 36/100\n",
            "112/112 [==============================] - 0s 2ms/step - loss: 0.3738 - binary_accuracy: 0.8541 - val_loss: 0.3671 - val_binary_accuracy: 0.8507\n",
            "Epoch 37/100\n",
            "112/112 [==============================] - 0s 2ms/step - loss: 0.3794 - binary_accuracy: 0.8405 - val_loss: 0.3668 - val_binary_accuracy: 0.8493\n",
            "Epoch 38/100\n",
            "112/112 [==============================] - 0s 2ms/step - loss: 0.3758 - binary_accuracy: 0.8444 - val_loss: 0.3663 - val_binary_accuracy: 0.8507\n",
            "Epoch 39/100\n",
            "112/112 [==============================] - 0s 2ms/step - loss: 0.3789 - binary_accuracy: 0.8451 - val_loss: 0.3659 - val_binary_accuracy: 0.8500\n",
            "Epoch 40/100\n",
            "112/112 [==============================] - 0s 2ms/step - loss: 0.3784 - binary_accuracy: 0.8435 - val_loss: 0.3655 - val_binary_accuracy: 0.8507\n",
            "Epoch 41/100\n",
            "112/112 [==============================] - 0s 2ms/step - loss: 0.3955 - binary_accuracy: 0.8344 - val_loss: 0.3651 - val_binary_accuracy: 0.8500\n",
            "Epoch 42/100\n",
            "112/112 [==============================] - 0s 2ms/step - loss: 0.3825 - binary_accuracy: 0.8355 - val_loss: 0.3649 - val_binary_accuracy: 0.8536\n",
            "Epoch 43/100\n",
            "112/112 [==============================] - 0s 2ms/step - loss: 0.3688 - binary_accuracy: 0.8474 - val_loss: 0.3644 - val_binary_accuracy: 0.8507\n",
            "Epoch 44/100\n",
            "112/112 [==============================] - 0s 2ms/step - loss: 0.3613 - binary_accuracy: 0.8520 - val_loss: 0.3641 - val_binary_accuracy: 0.8493\n",
            "Epoch 45/100\n",
            "112/112 [==============================] - 0s 2ms/step - loss: 0.3853 - binary_accuracy: 0.8379 - val_loss: 0.3640 - val_binary_accuracy: 0.8507\n",
            "Epoch 46/100\n",
            "112/112 [==============================] - 0s 2ms/step - loss: 0.3722 - binary_accuracy: 0.8497 - val_loss: 0.3639 - val_binary_accuracy: 0.8500\n",
            "Epoch 47/100\n",
            "112/112 [==============================] - 0s 2ms/step - loss: 0.3645 - binary_accuracy: 0.8493 - val_loss: 0.3634 - val_binary_accuracy: 0.8507\n",
            "Epoch 48/100\n",
            "112/112 [==============================] - 0s 2ms/step - loss: 0.3840 - binary_accuracy: 0.8415 - val_loss: 0.3634 - val_binary_accuracy: 0.8500\n",
            "Epoch 49/100\n",
            "112/112 [==============================] - 0s 2ms/step - loss: 0.3633 - binary_accuracy: 0.8446 - val_loss: 0.3632 - val_binary_accuracy: 0.8479\n",
            "Epoch 50/100\n",
            "112/112 [==============================] - 0s 2ms/step - loss: 0.3681 - binary_accuracy: 0.8483 - val_loss: 0.3631 - val_binary_accuracy: 0.8493\n",
            "Epoch 51/100\n",
            "112/112 [==============================] - 0s 2ms/step - loss: 0.3667 - binary_accuracy: 0.8484 - val_loss: 0.3630 - val_binary_accuracy: 0.8493\n",
            "Epoch 52/100\n",
            "112/112 [==============================] - 0s 2ms/step - loss: 0.3750 - binary_accuracy: 0.8482 - val_loss: 0.3627 - val_binary_accuracy: 0.8486\n",
            "Epoch 53/100\n",
            "112/112 [==============================] - 0s 2ms/step - loss: 0.3737 - binary_accuracy: 0.8398 - val_loss: 0.3629 - val_binary_accuracy: 0.8500\n",
            "Epoch 54/100\n",
            "112/112 [==============================] - 0s 2ms/step - loss: 0.3796 - binary_accuracy: 0.8393 - val_loss: 0.3628 - val_binary_accuracy: 0.8493\n",
            "Epoch 55/100\n",
            "112/112 [==============================] - 0s 2ms/step - loss: 0.3722 - binary_accuracy: 0.8445 - val_loss: 0.3626 - val_binary_accuracy: 0.8486\n",
            "Epoch 56/100\n",
            "112/112 [==============================] - 0s 2ms/step - loss: 0.3718 - binary_accuracy: 0.8442 - val_loss: 0.3617 - val_binary_accuracy: 0.8464\n",
            "Epoch 57/100\n",
            "112/112 [==============================] - 0s 2ms/step - loss: 0.3618 - binary_accuracy: 0.8579 - val_loss: 0.3617 - val_binary_accuracy: 0.8464\n",
            "Epoch 58/100\n",
            "112/112 [==============================] - 0s 2ms/step - loss: 0.3680 - binary_accuracy: 0.8483 - val_loss: 0.3618 - val_binary_accuracy: 0.8507\n",
            "Epoch 59/100\n",
            "112/112 [==============================] - 0s 2ms/step - loss: 0.3822 - binary_accuracy: 0.8375 - val_loss: 0.3616 - val_binary_accuracy: 0.8479\n",
            "Epoch 60/100\n",
            "112/112 [==============================] - 0s 2ms/step - loss: 0.3824 - binary_accuracy: 0.8402 - val_loss: 0.3615 - val_binary_accuracy: 0.8479\n",
            "Epoch 61/100\n",
            "112/112 [==============================] - 0s 2ms/step - loss: 0.3678 - binary_accuracy: 0.8487 - val_loss: 0.3610 - val_binary_accuracy: 0.8479\n",
            "Epoch 62/100\n",
            "112/112 [==============================] - 0s 2ms/step - loss: 0.3644 - binary_accuracy: 0.8511 - val_loss: 0.3615 - val_binary_accuracy: 0.8486\n",
            "Epoch 63/100\n",
            "112/112 [==============================] - 0s 2ms/step - loss: 0.3642 - binary_accuracy: 0.8499 - val_loss: 0.3613 - val_binary_accuracy: 0.8500\n",
            "Epoch 64/100\n",
            "112/112 [==============================] - 0s 2ms/step - loss: 0.3749 - binary_accuracy: 0.8448 - val_loss: 0.3608 - val_binary_accuracy: 0.8479\n",
            "Epoch 65/100\n",
            "112/112 [==============================] - 0s 2ms/step - loss: 0.3644 - binary_accuracy: 0.8428 - val_loss: 0.3608 - val_binary_accuracy: 0.8486\n",
            "Epoch 66/100\n",
            "112/112 [==============================] - 0s 2ms/step - loss: 0.3701 - binary_accuracy: 0.8508 - val_loss: 0.3605 - val_binary_accuracy: 0.8500\n",
            "Epoch 67/100\n",
            "112/112 [==============================] - 0s 2ms/step - loss: 0.3781 - binary_accuracy: 0.8472 - val_loss: 0.3604 - val_binary_accuracy: 0.8500\n",
            "Epoch 68/100\n",
            "112/112 [==============================] - 0s 2ms/step - loss: 0.3796 - binary_accuracy: 0.8410 - val_loss: 0.3605 - val_binary_accuracy: 0.8493\n",
            "Epoch 69/100\n",
            "112/112 [==============================] - 0s 2ms/step - loss: 0.3695 - binary_accuracy: 0.8462 - val_loss: 0.3608 - val_binary_accuracy: 0.8493\n",
            "Epoch 70/100\n",
            "112/112 [==============================] - 0s 2ms/step - loss: 0.3711 - binary_accuracy: 0.8388 - val_loss: 0.3605 - val_binary_accuracy: 0.8486\n",
            "Epoch 71/100\n",
            "112/112 [==============================] - 0s 2ms/step - loss: 0.3688 - binary_accuracy: 0.8447 - val_loss: 0.3601 - val_binary_accuracy: 0.8500\n",
            "Epoch 72/100\n",
            "112/112 [==============================] - 0s 2ms/step - loss: 0.3696 - binary_accuracy: 0.8445 - val_loss: 0.3605 - val_binary_accuracy: 0.8514\n",
            "Epoch 73/100\n",
            "112/112 [==============================] - 0s 2ms/step - loss: 0.3631 - binary_accuracy: 0.8512 - val_loss: 0.3605 - val_binary_accuracy: 0.8507\n",
            "Epoch 74/100\n",
            "112/112 [==============================] - 0s 2ms/step - loss: 0.3739 - binary_accuracy: 0.8424 - val_loss: 0.3605 - val_binary_accuracy: 0.8500\n",
            "Epoch 75/100\n",
            "112/112 [==============================] - 0s 2ms/step - loss: 0.3717 - binary_accuracy: 0.8450 - val_loss: 0.3611 - val_binary_accuracy: 0.8500\n",
            "Epoch 76/100\n",
            "112/112 [==============================] - 0s 2ms/step - loss: 0.3697 - binary_accuracy: 0.8477 - val_loss: 0.3604 - val_binary_accuracy: 0.8500\n",
            "Epoch 77/100\n",
            "112/112 [==============================] - 0s 2ms/step - loss: 0.3687 - binary_accuracy: 0.8426 - val_loss: 0.3602 - val_binary_accuracy: 0.8500\n",
            "Epoch 78/100\n",
            "112/112 [==============================] - 0s 2ms/step - loss: 0.3788 - binary_accuracy: 0.8448 - val_loss: 0.3600 - val_binary_accuracy: 0.8479\n",
            "Epoch 79/100\n",
            "112/112 [==============================] - 0s 2ms/step - loss: 0.3741 - binary_accuracy: 0.8445 - val_loss: 0.3600 - val_binary_accuracy: 0.8486\n",
            "Epoch 80/100\n",
            "112/112 [==============================] - 0s 2ms/step - loss: 0.3592 - binary_accuracy: 0.8536 - val_loss: 0.3603 - val_binary_accuracy: 0.8486\n",
            "Epoch 81/100\n",
            "112/112 [==============================] - 0s 2ms/step - loss: 0.3755 - binary_accuracy: 0.8401 - val_loss: 0.3604 - val_binary_accuracy: 0.8486\n",
            "Epoch 82/100\n",
            "112/112 [==============================] - 0s 2ms/step - loss: 0.3576 - binary_accuracy: 0.8503 - val_loss: 0.3602 - val_binary_accuracy: 0.8486\n",
            "Epoch 83/100\n",
            "112/112 [==============================] - 0s 2ms/step - loss: 0.3715 - binary_accuracy: 0.8503 - val_loss: 0.3603 - val_binary_accuracy: 0.8514\n",
            "Epoch 84/100\n",
            "112/112 [==============================] - 0s 2ms/step - loss: 0.3769 - binary_accuracy: 0.8453 - val_loss: 0.3602 - val_binary_accuracy: 0.8500\n",
            "Epoch 85/100\n",
            "112/112 [==============================] - 0s 2ms/step - loss: 0.3787 - binary_accuracy: 0.8396 - val_loss: 0.3600 - val_binary_accuracy: 0.8514\n",
            "Epoch 86/100\n",
            "112/112 [==============================] - 0s 2ms/step - loss: 0.3606 - binary_accuracy: 0.8496 - val_loss: 0.3606 - val_binary_accuracy: 0.8514\n",
            "Epoch 87/100\n",
            "112/112 [==============================] - 0s 2ms/step - loss: 0.3784 - binary_accuracy: 0.8439 - val_loss: 0.3605 - val_binary_accuracy: 0.8507\n",
            "Epoch 88/100\n",
            "112/112 [==============================] - 0s 2ms/step - loss: 0.3838 - binary_accuracy: 0.8442 - val_loss: 0.3603 - val_binary_accuracy: 0.8507\n",
            "Epoch 89/100\n",
            "112/112 [==============================] - 0s 2ms/step - loss: 0.3503 - binary_accuracy: 0.8585 - val_loss: 0.3602 - val_binary_accuracy: 0.8486\n",
            "Epoch 90/100\n",
            "112/112 [==============================] - 0s 2ms/step - loss: 0.3619 - binary_accuracy: 0.8497 - val_loss: 0.3602 - val_binary_accuracy: 0.8493\n",
            "Epoch 91/100\n",
            "112/112 [==============================] - 0s 2ms/step - loss: 0.3881 - binary_accuracy: 0.8396 - val_loss: 0.3605 - val_binary_accuracy: 0.8493\n",
            "Epoch 92/100\n",
            "112/112 [==============================] - 0s 2ms/step - loss: 0.3720 - binary_accuracy: 0.8415 - val_loss: 0.3597 - val_binary_accuracy: 0.8500\n",
            "Epoch 93/100\n",
            "112/112 [==============================] - 0s 2ms/step - loss: 0.3660 - binary_accuracy: 0.8477 - val_loss: 0.3598 - val_binary_accuracy: 0.8507\n",
            "Epoch 94/100\n",
            "112/112 [==============================] - 0s 2ms/step - loss: 0.3782 - binary_accuracy: 0.8423 - val_loss: 0.3594 - val_binary_accuracy: 0.8514\n",
            "Epoch 95/100\n",
            "112/112 [==============================] - 0s 2ms/step - loss: 0.3620 - binary_accuracy: 0.8523 - val_loss: 0.3595 - val_binary_accuracy: 0.8507\n",
            "Epoch 96/100\n",
            "112/112 [==============================] - 0s 2ms/step - loss: 0.3899 - binary_accuracy: 0.8401 - val_loss: 0.3598 - val_binary_accuracy: 0.8493\n",
            "Epoch 97/100\n",
            "112/112 [==============================] - 0s 2ms/step - loss: 0.3696 - binary_accuracy: 0.8469 - val_loss: 0.3596 - val_binary_accuracy: 0.8493\n",
            "Epoch 98/100\n",
            "112/112 [==============================] - 0s 2ms/step - loss: 0.3704 - binary_accuracy: 0.8442 - val_loss: 0.3595 - val_binary_accuracy: 0.8500\n",
            "Epoch 99/100\n",
            "112/112 [==============================] - 0s 2ms/step - loss: 0.3670 - binary_accuracy: 0.8442 - val_loss: 0.3595 - val_binary_accuracy: 0.8493\n",
            "Epoch 100/100\n",
            "112/112 [==============================] - 0s 2ms/step - loss: 0.3591 - binary_accuracy: 0.8510 - val_loss: 0.3593 - val_binary_accuracy: 0.8500\n"
          ],
          "name": "stdout"
        }
      ]
    },
    {
      "cell_type": "code",
      "metadata": {
        "id": "28Cj01Yu-9Ss"
      },
      "source": [
        "ypred=model.predict(xtest)\n",
        "ypred=np.where(ypred>=0.5,1,0)"
      ],
      "execution_count": null,
      "outputs": []
    },
    {
      "cell_type": "code",
      "metadata": {
        "colab": {
          "base_uri": "https://localhost:8080/"
        },
        "id": "lzeGunVfizz8",
        "outputId": "fc267e14-c591-4706-b978-76bfa4533e30"
      },
      "source": [
        "ypred"
      ],
      "execution_count": null,
      "outputs": [
        {
          "output_type": "execute_result",
          "data": {
            "text/plain": [
              "array([[0],\n",
              "       [0],\n",
              "       [0],\n",
              "       ...,\n",
              "       [0],\n",
              "       [0],\n",
              "       [0]])"
            ]
          },
          "metadata": {
            "tags": []
          },
          "execution_count": 269
        }
      ]
    },
    {
      "cell_type": "code",
      "metadata": {
        "id": "kbK7v5Hb_bg8"
      },
      "source": [
        "import matplotlib.pyplot as plt"
      ],
      "execution_count": null,
      "outputs": []
    },
    {
      "cell_type": "code",
      "metadata": {
        "colab": {
          "base_uri": "https://localhost:8080/",
          "height": 282
        },
        "id": "zp3DRc4l_PNT",
        "outputId": "9456ca21-146c-47cf-c92e-be32561b1024"
      },
      "source": [
        "plt.plot(trainedmodel.history[\"loss\"],'g')\n",
        "plt.plot(trainedmodel.history[\"val_loss\"],'b')"
      ],
      "execution_count": null,
      "outputs": [
        {
          "output_type": "execute_result",
          "data": {
            "text/plain": [
              "[<matplotlib.lines.Line2D at 0x7f6a0ebec810>]"
            ]
          },
          "metadata": {
            "tags": []
          },
          "execution_count": 271
        },
        {
          "output_type": "display_data",
          "data": {
            "image/png": "[encoded data removed]",
            "text/plain": [
              "<Figure size 432x288 with 1 Axes>"
            ]
          },
          "metadata": {
            "tags": [],
            "needs_background": "light"
          }
        }
      ]
    },
    {
      "cell_type": "code",
      "metadata": {
        "colab": {
          "base_uri": "https://localhost:8080/",
          "height": 282
        },
        "id": "F3Gfe3IqtpsG",
        "outputId": "64ec04fe-acfb-45c3-e5f9-1040c1a5be22"
      },
      "source": [
        "plt.plot(trainedmodel.history[\"binary_accuracy\"],'g')\n",
        "plt.plot(trainedmodel.history[\"val_binary_accuracy\"],'b')"
      ],
      "execution_count": null,
      "outputs": [
        {
          "output_type": "execute_result",
          "data": {
            "text/plain": [
              "[<matplotlib.lines.Line2D at 0x7f6a0eba2c50>]"
            ]
          },
          "metadata": {
            "tags": []
          },
          "execution_count": 272
        },
        {
          "output_type": "display_data",
          "data": {
            "image/png": "[encoded data removed]",
            "text/plain": [
              "<Figure size 432x288 with 1 Axes>"
            ]
          },
          "metadata": {
            "tags": [],
            "needs_background": "light"
          }
        }
      ]
    },
    {
      "cell_type": "code",
      "metadata": {
        "colab": {
          "base_uri": "https://localhost:8080/"
        },
        "id": "iHPIffDEA7ek",
        "outputId": "aeeec2aa-9ab2-4790-f36e-2a9e5a711f8f"
      },
      "source": [
        "trainedmodel.history"
      ],
      "execution_count": null,
      "outputs": [
        {
          "output_type": "execute_result",
          "data": {
            "text/plain": [
              "{'binary_accuracy': [0.36767858266830444,\n",
              "  0.5801785588264465,\n",
              "  0.7239285707473755,\n",
              "  0.770714282989502,\n",
              "  0.7817857265472412,\n",
              "  0.7914285659790039,\n",
              "  0.7969642877578735,\n",
              "  0.804107129573822,\n",
              "  0.8016071319580078,\n",
              "  0.8089285492897034,\n",
              "  0.8146428465843201,\n",
              "  0.8139285445213318,\n",
              "  0.816428542137146,\n",
              "  0.8198214173316956,\n",
              "  0.820892870426178,\n",
              "  0.8271428346633911,\n",
              "  0.8237500190734863,\n",
              "  0.8264285922050476,\n",
              "  0.8283928632736206,\n",
              "  0.8296428322792053,\n",
              "  0.8346428275108337,\n",
              "  0.8294642567634583,\n",
              "  0.831428587436676,\n",
              "  0.8330357074737549,\n",
              "  0.8369643092155457,\n",
              "  0.8366071581840515,\n",
              "  0.8383928537368774,\n",
              "  0.8378571271896362,\n",
              "  0.837321400642395,\n",
              "  0.8403571248054504,\n",
              "  0.8342857360839844,\n",
              "  0.8419643044471741,\n",
              "  0.8396428823471069,\n",
              "  0.837321400642395,\n",
              "  0.839821457862854,\n",
              "  0.8444643020629883,\n",
              "  0.839821457862854,\n",
              "  0.8383928537368774,\n",
              "  0.84375,\n",
              "  0.8455356955528259,\n",
              "  0.8448214530944824,\n",
              "  0.841785728931427,\n",
              "  0.84375,\n",
              "  0.8416071534156799,\n",
              "  0.8407142758369446,\n",
              "  0.8421428799629211,\n",
              "  0.8433928489685059,\n",
              "  0.8433928489685059,\n",
              "  0.8385714292526245,\n",
              "  0.8469642996788025,\n",
              "  0.8478571176528931,\n",
              "  0.8448214530944824,\n",
              "  0.8421428799629211,\n",
              "  0.8416071534156799,\n",
              "  0.8466071486473083,\n",
              "  0.8430356979370117,\n",
              "  0.8466071486473083,\n",
              "  0.8466071486473083,\n",
              "  0.8450000286102295,\n",
              "  0.8416071534156799,\n",
              "  0.84375,\n",
              "  0.8441071510314941,\n",
              "  0.8433928489685059,\n",
              "  0.8426785469055176,\n",
              "  0.8428571224212646,\n",
              "  0.8464285731315613,\n",
              "  0.8471428751945496,\n",
              "  0.8478571176528931,\n",
              "  0.8419643044471741,\n",
              "  0.8432142734527588,\n",
              "  0.8426785469055176,\n",
              "  0.8416071534156799,\n",
              "  0.8446428775787354,\n",
              "  0.8399999737739563,\n",
              "  0.8458928465843201,\n",
              "  0.8478571176528931,\n",
              "  0.8455356955528259,\n",
              "  0.84375,\n",
              "  0.8446428775787354,\n",
              "  0.8464285731315613,\n",
              "  0.8412500023841858,\n",
              "  0.8433928489685059,\n",
              "  0.8444643020629883,\n",
              "  0.8448214530944824,\n",
              "  0.84375,\n",
              "  0.8407142758369446,\n",
              "  0.8426785469055176,\n",
              "  0.8478571176528931,\n",
              "  0.8471428751945496,\n",
              "  0.8439285755157471,\n",
              "  0.8442857265472412,\n",
              "  0.8462499976158142,\n",
              "  0.845714271068573,\n",
              "  0.8439285755157471,\n",
              "  0.8453571200370789,\n",
              "  0.8458928465843201,\n",
              "  0.845714271068573,\n",
              "  0.8483928442001343,\n",
              "  0.8444643020629883,\n",
              "  0.8467857241630554],\n",
              " 'loss': [1.0646311044692993,\n",
              "  0.6997796893119812,\n",
              "  0.5672019124031067,\n",
              "  0.5093747973442078,\n",
              "  0.49148911237716675,\n",
              "  0.4716627597808838,\n",
              "  0.4622024893760681,\n",
              "  0.45386260747909546,\n",
              "  0.44712045788764954,\n",
              "  0.4439910054206848,\n",
              "  0.43493378162384033,\n",
              "  0.43159449100494385,\n",
              "  0.43324899673461914,\n",
              "  0.42595475912094116,\n",
              "  0.42578834295272827,\n",
              "  0.4153949022293091,\n",
              "  0.41776829957962036,\n",
              "  0.41195040941238403,\n",
              "  0.41261938214302063,\n",
              "  0.40502917766571045,\n",
              "  0.40138205885887146,\n",
              "  0.4038175344467163,\n",
              "  0.40228384733200073,\n",
              "  0.3961818218231201,\n",
              "  0.3935970664024353,\n",
              "  0.3961457908153534,\n",
              "  0.39098140597343445,\n",
              "  0.3880183696746826,\n",
              "  0.39230385422706604,\n",
              "  0.38591527938842773,\n",
              "  0.3885038495063782,\n",
              "  0.38256561756134033,\n",
              "  0.3822391629219055,\n",
              "  0.3830224573612213,\n",
              "  0.38175222277641296,\n",
              "  0.3798378109931946,\n",
              "  0.38035479187965393,\n",
              "  0.3849557638168335,\n",
              "  0.37894144654273987,\n",
              "  0.37774598598480225,\n",
              "  0.3784889578819275,\n",
              "  0.3803696632385254,\n",
              "  0.3749385178089142,\n",
              "  0.37385448813438416,\n",
              "  0.3772926926612854,\n",
              "  0.38092511892318726,\n",
              "  0.37736424803733826,\n",
              "  0.37889060378074646,\n",
              "  0.37576642632484436,\n",
              "  0.37114837765693665,\n",
              "  0.37177571654319763,\n",
              "  0.3760665953159332,\n",
              "  0.37313276529312134,\n",
              "  0.3738081157207489,\n",
              "  0.3771463930606842,\n",
              "  0.372092604637146,\n",
              "  0.37586477398872375,\n",
              "  0.37380558252334595,\n",
              "  0.3740745186805725,\n",
              "  0.3758462071418762,\n",
              "  0.3750631809234619,\n",
              "  0.37751588225364685,\n",
              "  0.37430334091186523,\n",
              "  0.37634217739105225,\n",
              "  0.37154653668403625,\n",
              "  0.370682030916214,\n",
              "  0.3746442198753357,\n",
              "  0.37322938442230225,\n",
              "  0.37253111600875854,\n",
              "  0.3729272782802582,\n",
              "  0.37029850482940674,\n",
              "  0.37439000606536865,\n",
              "  0.3714984953403473,\n",
              "  0.37875980138778687,\n",
              "  0.3714510202407837,\n",
              "  0.36964643001556396,\n",
              "  0.3677941560745239,\n",
              "  0.37181857228279114,\n",
              "  0.3724076747894287,\n",
              "  0.3681213855743408,\n",
              "  0.3762373626232147,\n",
              "  0.37166813015937805,\n",
              "  0.3731144070625305,\n",
              "  0.37392038106918335,\n",
              "  0.37346118688583374,\n",
              "  0.3745952546596527,\n",
              "  0.37885960936546326,\n",
              "  0.3702529966831207,\n",
              "  0.3665741980075836,\n",
              "  0.3735913932323456,\n",
              "  0.3790620267391205,\n",
              "  0.3677816390991211,\n",
              "  0.3720053434371948,\n",
              "  0.3723171651363373,\n",
              "  0.373122900724411,\n",
              "  0.37437206506729126,\n",
              "  0.3682195246219635,\n",
              "  0.3679598867893219,\n",
              "  0.3698330819606781,\n",
              "  0.3671761751174927],\n",
              " 'val_binary_accuracy': [0.47928571701049805,\n",
              "  0.7128571271896362,\n",
              "  0.7871428728103638,\n",
              "  0.7928571701049805,\n",
              "  0.8014285564422607,\n",
              "  0.8050000071525574,\n",
              "  0.8057143092155457,\n",
              "  0.8092857003211975,\n",
              "  0.8142856955528259,\n",
              "  0.8178571462631226,\n",
              "  0.8185714483261108,\n",
              "  0.8214285969734192,\n",
              "  0.8264285922050476,\n",
              "  0.8271428346633911,\n",
              "  0.829285740852356,\n",
              "  0.8285714387893677,\n",
              "  0.8257142901420593,\n",
              "  0.8278571367263794,\n",
              "  0.8307142853736877,\n",
              "  0.8299999833106995,\n",
              "  0.8349999785423279,\n",
              "  0.8349999785423279,\n",
              "  0.8335714340209961,\n",
              "  0.8349999785423279,\n",
              "  0.8378571271896362,\n",
              "  0.8392857313156128,\n",
              "  0.8435714244842529,\n",
              "  0.8435714244842529,\n",
              "  0.8442857265472412,\n",
              "  0.845714271068573,\n",
              "  0.8464285731315613,\n",
              "  0.8464285731315613,\n",
              "  0.8478571176528931,\n",
              "  0.8478571176528931,\n",
              "  0.8500000238418579,\n",
              "  0.8507142663002014,\n",
              "  0.8492857217788696,\n",
              "  0.8507142663002014,\n",
              "  0.8500000238418579,\n",
              "  0.8507142663002014,\n",
              "  0.8500000238418579,\n",
              "  0.8535714149475098,\n",
              "  0.8507142663002014,\n",
              "  0.8492857217788696,\n",
              "  0.8507142663002014,\n",
              "  0.8500000238418579,\n",
              "  0.8507142663002014,\n",
              "  0.8500000238418579,\n",
              "  0.8478571176528931,\n",
              "  0.8492857217788696,\n",
              "  0.8492857217788696,\n",
              "  0.8485714197158813,\n",
              "  0.8500000238418579,\n",
              "  0.8492857217788696,\n",
              "  0.8485714197158813,\n",
              "  0.8464285731315613,\n",
              "  0.8464285731315613,\n",
              "  0.8507142663002014,\n",
              "  0.8478571176528931,\n",
              "  0.8478571176528931,\n",
              "  0.8478571176528931,\n",
              "  0.8485714197158813,\n",
              "  0.8500000238418579,\n",
              "  0.8478571176528931,\n",
              "  0.8485714197158813,\n",
              "  0.8500000238418579,\n",
              "  0.8500000238418579,\n",
              "  0.8492857217788696,\n",
              "  0.8492857217788696,\n",
              "  0.8485714197158813,\n",
              "  0.8500000238418579,\n",
              "  0.8514285683631897,\n",
              "  0.8507142663002014,\n",
              "  0.8500000238418579,\n",
              "  0.8500000238418579,\n",
              "  0.8500000238418579,\n",
              "  0.8500000238418579,\n",
              "  0.8478571176528931,\n",
              "  0.8485714197158813,\n",
              "  0.8485714197158813,\n",
              "  0.8485714197158813,\n",
              "  0.8485714197158813,\n",
              "  0.8514285683631897,\n",
              "  0.8500000238418579,\n",
              "  0.8514285683631897,\n",
              "  0.8514285683631897,\n",
              "  0.8507142663002014,\n",
              "  0.8507142663002014,\n",
              "  0.8485714197158813,\n",
              "  0.8492857217788696,\n",
              "  0.8492857217788696,\n",
              "  0.8500000238418579,\n",
              "  0.8507142663002014,\n",
              "  0.8514285683631897,\n",
              "  0.8507142663002014,\n",
              "  0.8492857217788696,\n",
              "  0.8492857217788696,\n",
              "  0.8500000238418579,\n",
              "  0.8492857217788696,\n",
              "  0.8500000238418579],\n",
              " 'val_loss': [0.8063744306564331,\n",
              "  0.5860525369644165,\n",
              "  0.5023909211158752,\n",
              "  0.4677378535270691,\n",
              "  0.4507332146167755,\n",
              "  0.4410538077354431,\n",
              "  0.43404003977775574,\n",
              "  0.4291380047798157,\n",
              "  0.4245736598968506,\n",
              "  0.4206337630748749,\n",
              "  0.4171949625015259,\n",
              "  0.41359031200408936,\n",
              "  0.41042715311050415,\n",
              "  0.40773406624794006,\n",
              "  0.40515393018722534,\n",
              "  0.4026983082294464,\n",
              "  0.4003496766090393,\n",
              "  0.3973101079463959,\n",
              "  0.3944118916988373,\n",
              "  0.39201295375823975,\n",
              "  0.3897247016429901,\n",
              "  0.3875630795955658,\n",
              "  0.3852689862251282,\n",
              "  0.38308006525039673,\n",
              "  0.3807082176208496,\n",
              "  0.3783896267414093,\n",
              "  0.37672656774520874,\n",
              "  0.37453344464302063,\n",
              "  0.37368425726890564,\n",
              "  0.3721548914909363,\n",
              "  0.3711816370487213,\n",
              "  0.37040814757347107,\n",
              "  0.3693356215953827,\n",
              "  0.36872655153274536,\n",
              "  0.3676278293132782,\n",
              "  0.36709484457969666,\n",
              "  0.3667561113834381,\n",
              "  0.3663473427295685,\n",
              "  0.36592552065849304,\n",
              "  0.3655329644680023,\n",
              "  0.3651304244995117,\n",
              "  0.3648871183395386,\n",
              "  0.3644481897354126,\n",
              "  0.3640998303890228,\n",
              "  0.3640044331550598,\n",
              "  0.3638727068901062,\n",
              "  0.3634125590324402,\n",
              "  0.36335933208465576,\n",
              "  0.363200843334198,\n",
              "  0.36314159631729126,\n",
              "  0.36296430230140686,\n",
              "  0.36267706751823425,\n",
              "  0.3628994822502136,\n",
              "  0.36279404163360596,\n",
              "  0.3625955581665039,\n",
              "  0.36165526509284973,\n",
              "  0.3617163598537445,\n",
              "  0.3617716431617737,\n",
              "  0.36160773038864136,\n",
              "  0.36153852939605713,\n",
              "  0.3610055148601532,\n",
              "  0.36146828532218933,\n",
              "  0.3613108694553375,\n",
              "  0.3607582449913025,\n",
              "  0.36076033115386963,\n",
              "  0.3605075478553772,\n",
              "  0.36041000485420227,\n",
              "  0.36049410700798035,\n",
              "  0.3607937693595886,\n",
              "  0.3604542016983032,\n",
              "  0.3600905239582062,\n",
              "  0.3605448603630066,\n",
              "  0.3604572117328644,\n",
              "  0.3604688048362732,\n",
              "  0.3611012399196625,\n",
              "  0.36036038398742676,\n",
              "  0.3601940870285034,\n",
              "  0.3600413501262665,\n",
              "  0.36004751920700073,\n",
              "  0.3602686822414398,\n",
              "  0.3603665232658386,\n",
              "  0.36023610830307007,\n",
              "  0.36030542850494385,\n",
              "  0.3602314293384552,\n",
              "  0.36001119017601013,\n",
              "  0.3605820834636688,\n",
              "  0.3604726493358612,\n",
              "  0.3603087365627289,\n",
              "  0.3601616322994232,\n",
              "  0.36019793152809143,\n",
              "  0.3605150580406189,\n",
              "  0.3597339391708374,\n",
              "  0.3598272502422333,\n",
              "  0.3593534529209137,\n",
              "  0.35951074957847595,\n",
              "  0.35980895161628723,\n",
              "  0.35962074995040894,\n",
              "  0.3594587445259094,\n",
              "  0.3595447540283203,\n",
              "  0.35934826731681824]}"
            ]
          },
          "metadata": {
            "tags": []
          },
          "execution_count": 273
        }
      ]
    },
    {
      "cell_type": "code",
      "metadata": {
        "id": "5t1pHK4ciVVx"
      },
      "source": [
        "from sklearn.metrics import classification_report"
      ],
      "execution_count": null,
      "outputs": []
    },
    {
      "cell_type": "code",
      "metadata": {
        "colab": {
          "base_uri": "https://localhost:8080/"
        },
        "id": "viLoQ2-_iZpi",
        "outputId": "b47f7650-f631-45ca-b318-1387dffb8d0b"
      },
      "source": [
        "print(classification_report(ytest,ypred))"
      ],
      "execution_count": null,
      "outputs": [
        {
          "output_type": "stream",
          "text": [
            "              precision    recall  f1-score   support\n",
            "\n",
            "           0       0.87      0.97      0.92      2379\n",
            "           1       0.79      0.44      0.57       621\n",
            "\n",
            "    accuracy                           0.86      3000\n",
            "   macro avg       0.83      0.70      0.74      3000\n",
            "weighted avg       0.85      0.86      0.84      3000\n",
            "\n"
          ],
          "name": "stdout"
        }
      ]
    },
    {
      "cell_type": "code",
      "metadata": {
        "id": "4a2Exyr2ukAG"
      },
      "source": [
        ""
      ],
      "execution_count": null,
      "outputs": []
    },
    {
      "cell_type": "markdown",
      "metadata": {
        "id": "95pPKzSyuv12"
      },
      "source": [
        "## 3 LAYER"
      ]
    },
    {
      "cell_type": "code",
      "metadata": {
        "id": "EgHPMVuvukOb"
      },
      "source": [
        "model=tf.keras.Sequential([\n",
        "                           tf.keras.layers.Dense(11,activation=\"relu\",input_shape=(x.shape[1],)),\n",
        "                           tf.keras.layers.Dense(7,activation=\"relu\"),\n",
        "                           tf.keras.layers.Dropout(0.2),\n",
        "                           tf.keras.layers.Dense(1,activation=\"sigmoid\")\n",
        "])"
      ],
      "execution_count": null,
      "outputs": []
    },
    {
      "cell_type": "code",
      "metadata": {
        "id": "A6A7GY-IukOc"
      },
      "source": [
        "model.compile(optimizer='adam',loss='binary_crossentropy',metrics=['binary_accuracy'])"
      ],
      "execution_count": null,
      "outputs": []
    },
    {
      "cell_type": "code",
      "metadata": {
        "colab": {
          "base_uri": "https://localhost:8080/"
        },
        "id": "eF1uGm1OukOc",
        "outputId": "036f46b0-1746-44f1-e7a6-d7d61330999e"
      },
      "source": [
        "trainedmodel=model.fit(xtrain,ytrain,epochs=100,batch_size=50,validation_split=0.2)"
      ],
      "execution_count": null,
      "outputs": [
        {
          "output_type": "stream",
          "text": [
            "Epoch 1/100\n",
            "112/112 [==============================] - 1s 6ms/step - loss: 0.6806 - binary_accuracy: 0.6028 - val_loss: 0.5500 - val_binary_accuracy: 0.7921\n",
            "Epoch 2/100\n",
            "112/112 [==============================] - 0s 2ms/step - loss: 0.5509 - binary_accuracy: 0.7813 - val_loss: 0.4833 - val_binary_accuracy: 0.8000\n",
            "Epoch 3/100\n",
            "112/112 [==============================] - 0s 2ms/step - loss: 0.5001 - binary_accuracy: 0.7924 - val_loss: 0.4575 - val_binary_accuracy: 0.7993\n",
            "Epoch 4/100\n",
            "112/112 [==============================] - 0s 2ms/step - loss: 0.4846 - binary_accuracy: 0.7918 - val_loss: 0.4437 - val_binary_accuracy: 0.7993\n",
            "Epoch 5/100\n",
            "112/112 [==============================] - 0s 2ms/step - loss: 0.4573 - binary_accuracy: 0.8008 - val_loss: 0.4358 - val_binary_accuracy: 0.8007\n",
            "Epoch 6/100\n",
            "112/112 [==============================] - 0s 2ms/step - loss: 0.4539 - binary_accuracy: 0.7944 - val_loss: 0.4286 - val_binary_accuracy: 0.8029\n",
            "Epoch 7/100\n",
            "112/112 [==============================] - 0s 2ms/step - loss: 0.4341 - binary_accuracy: 0.8128 - val_loss: 0.4229 - val_binary_accuracy: 0.8050\n",
            "Epoch 8/100\n",
            "112/112 [==============================] - 0s 2ms/step - loss: 0.4227 - binary_accuracy: 0.8187 - val_loss: 0.4155 - val_binary_accuracy: 0.8114\n",
            "Epoch 9/100\n",
            "112/112 [==============================] - 0s 2ms/step - loss: 0.4298 - binary_accuracy: 0.8098 - val_loss: 0.4062 - val_binary_accuracy: 0.8186\n",
            "Epoch 10/100\n",
            "112/112 [==============================] - 0s 2ms/step - loss: 0.4120 - binary_accuracy: 0.8293 - val_loss: 0.3970 - val_binary_accuracy: 0.8293\n",
            "Epoch 11/100\n",
            "112/112 [==============================] - 0s 2ms/step - loss: 0.3982 - binary_accuracy: 0.8293 - val_loss: 0.3898 - val_binary_accuracy: 0.8314\n",
            "Epoch 12/100\n",
            "112/112 [==============================] - 0s 2ms/step - loss: 0.3886 - binary_accuracy: 0.8340 - val_loss: 0.3843 - val_binary_accuracy: 0.8264\n",
            "Epoch 13/100\n",
            "112/112 [==============================] - 0s 2ms/step - loss: 0.3989 - binary_accuracy: 0.8274 - val_loss: 0.3801 - val_binary_accuracy: 0.8343\n",
            "Epoch 14/100\n",
            "112/112 [==============================] - 0s 2ms/step - loss: 0.3837 - binary_accuracy: 0.8328 - val_loss: 0.3770 - val_binary_accuracy: 0.8343\n",
            "Epoch 15/100\n",
            "112/112 [==============================] - 0s 2ms/step - loss: 0.3829 - binary_accuracy: 0.8382 - val_loss: 0.3739 - val_binary_accuracy: 0.8386\n",
            "Epoch 16/100\n",
            "112/112 [==============================] - 0s 2ms/step - loss: 0.3667 - binary_accuracy: 0.8446 - val_loss: 0.3710 - val_binary_accuracy: 0.8400\n",
            "Epoch 17/100\n",
            "112/112 [==============================] - 0s 2ms/step - loss: 0.3918 - binary_accuracy: 0.8370 - val_loss: 0.3695 - val_binary_accuracy: 0.8443\n",
            "Epoch 18/100\n",
            "112/112 [==============================] - 0s 2ms/step - loss: 0.3748 - binary_accuracy: 0.8407 - val_loss: 0.3680 - val_binary_accuracy: 0.8443\n",
            "Epoch 19/100\n",
            "112/112 [==============================] - 0s 2ms/step - loss: 0.3778 - binary_accuracy: 0.8448 - val_loss: 0.3663 - val_binary_accuracy: 0.8464\n",
            "Epoch 20/100\n",
            "112/112 [==============================] - 0s 2ms/step - loss: 0.3773 - binary_accuracy: 0.8416 - val_loss: 0.3649 - val_binary_accuracy: 0.8486\n",
            "Epoch 21/100\n",
            "112/112 [==============================] - 0s 2ms/step - loss: 0.3820 - binary_accuracy: 0.8396 - val_loss: 0.3646 - val_binary_accuracy: 0.8479\n",
            "Epoch 22/100\n",
            "112/112 [==============================] - 0s 2ms/step - loss: 0.3571 - binary_accuracy: 0.8516 - val_loss: 0.3639 - val_binary_accuracy: 0.8500\n",
            "Epoch 23/100\n",
            "112/112 [==============================] - 0s 2ms/step - loss: 0.3707 - binary_accuracy: 0.8433 - val_loss: 0.3637 - val_binary_accuracy: 0.8486\n",
            "Epoch 24/100\n",
            "112/112 [==============================] - 0s 2ms/step - loss: 0.3643 - binary_accuracy: 0.8471 - val_loss: 0.3624 - val_binary_accuracy: 0.8514\n",
            "Epoch 25/100\n",
            "112/112 [==============================] - 0s 2ms/step - loss: 0.3685 - binary_accuracy: 0.8478 - val_loss: 0.3620 - val_binary_accuracy: 0.8479\n",
            "Epoch 26/100\n",
            "112/112 [==============================] - 0s 2ms/step - loss: 0.3681 - binary_accuracy: 0.8511 - val_loss: 0.3612 - val_binary_accuracy: 0.8500\n",
            "Epoch 27/100\n",
            "112/112 [==============================] - 0s 2ms/step - loss: 0.3723 - binary_accuracy: 0.8453 - val_loss: 0.3605 - val_binary_accuracy: 0.8507\n",
            "Epoch 28/100\n",
            "112/112 [==============================] - 0s 2ms/step - loss: 0.3787 - binary_accuracy: 0.8380 - val_loss: 0.3607 - val_binary_accuracy: 0.8507\n",
            "Epoch 29/100\n",
            "112/112 [==============================] - 0s 2ms/step - loss: 0.3512 - binary_accuracy: 0.8544 - val_loss: 0.3611 - val_binary_accuracy: 0.8493\n",
            "Epoch 30/100\n",
            "112/112 [==============================] - 0s 2ms/step - loss: 0.3602 - binary_accuracy: 0.8529 - val_loss: 0.3601 - val_binary_accuracy: 0.8500\n",
            "Epoch 31/100\n",
            "112/112 [==============================] - 0s 2ms/step - loss: 0.3563 - binary_accuracy: 0.8517 - val_loss: 0.3607 - val_binary_accuracy: 0.8507\n",
            "Epoch 32/100\n",
            "112/112 [==============================] - 0s 2ms/step - loss: 0.3733 - binary_accuracy: 0.8460 - val_loss: 0.3600 - val_binary_accuracy: 0.8521\n",
            "Epoch 33/100\n",
            "112/112 [==============================] - 0s 2ms/step - loss: 0.3608 - binary_accuracy: 0.8539 - val_loss: 0.3595 - val_binary_accuracy: 0.8514\n",
            "Epoch 34/100\n",
            "112/112 [==============================] - 0s 2ms/step - loss: 0.3579 - binary_accuracy: 0.8489 - val_loss: 0.3594 - val_binary_accuracy: 0.8507\n",
            "Epoch 35/100\n",
            "112/112 [==============================] - 0s 2ms/step - loss: 0.3656 - binary_accuracy: 0.8485 - val_loss: 0.3594 - val_binary_accuracy: 0.8521\n",
            "Epoch 36/100\n",
            "112/112 [==============================] - 0s 2ms/step - loss: 0.3519 - binary_accuracy: 0.8542 - val_loss: 0.3592 - val_binary_accuracy: 0.8521\n",
            "Epoch 37/100\n",
            "112/112 [==============================] - 0s 2ms/step - loss: 0.3633 - binary_accuracy: 0.8486 - val_loss: 0.3589 - val_binary_accuracy: 0.8529\n",
            "Epoch 38/100\n",
            "112/112 [==============================] - 0s 2ms/step - loss: 0.3592 - binary_accuracy: 0.8523 - val_loss: 0.3588 - val_binary_accuracy: 0.8521\n",
            "Epoch 39/100\n",
            "112/112 [==============================] - 0s 2ms/step - loss: 0.3601 - binary_accuracy: 0.8485 - val_loss: 0.3586 - val_binary_accuracy: 0.8536\n",
            "Epoch 40/100\n",
            "112/112 [==============================] - 0s 2ms/step - loss: 0.3507 - binary_accuracy: 0.8575 - val_loss: 0.3588 - val_binary_accuracy: 0.8486\n",
            "Epoch 41/100\n",
            "112/112 [==============================] - 0s 2ms/step - loss: 0.3696 - binary_accuracy: 0.8503 - val_loss: 0.3579 - val_binary_accuracy: 0.8529\n",
            "Epoch 42/100\n",
            "112/112 [==============================] - 0s 2ms/step - loss: 0.3419 - binary_accuracy: 0.8629 - val_loss: 0.3586 - val_binary_accuracy: 0.8486\n",
            "Epoch 43/100\n",
            "112/112 [==============================] - 0s 2ms/step - loss: 0.3537 - binary_accuracy: 0.8566 - val_loss: 0.3589 - val_binary_accuracy: 0.8521\n",
            "Epoch 44/100\n",
            "112/112 [==============================] - 0s 2ms/step - loss: 0.3545 - binary_accuracy: 0.8475 - val_loss: 0.3578 - val_binary_accuracy: 0.8529\n",
            "Epoch 45/100\n",
            "112/112 [==============================] - 0s 2ms/step - loss: 0.3540 - binary_accuracy: 0.8562 - val_loss: 0.3581 - val_binary_accuracy: 0.8514\n",
            "Epoch 46/100\n",
            "112/112 [==============================] - 0s 2ms/step - loss: 0.3558 - binary_accuracy: 0.8533 - val_loss: 0.3573 - val_binary_accuracy: 0.8529\n",
            "Epoch 47/100\n",
            "112/112 [==============================] - 0s 2ms/step - loss: 0.3570 - binary_accuracy: 0.8478 - val_loss: 0.3568 - val_binary_accuracy: 0.8543\n",
            "Epoch 48/100\n",
            "112/112 [==============================] - 0s 2ms/step - loss: 0.3560 - binary_accuracy: 0.8532 - val_loss: 0.3572 - val_binary_accuracy: 0.8529\n",
            "Epoch 49/100\n",
            "112/112 [==============================] - 0s 2ms/step - loss: 0.3717 - binary_accuracy: 0.8513 - val_loss: 0.3572 - val_binary_accuracy: 0.8529\n",
            "Epoch 50/100\n",
            "112/112 [==============================] - 0s 2ms/step - loss: 0.3588 - binary_accuracy: 0.8513 - val_loss: 0.3564 - val_binary_accuracy: 0.8550\n",
            "Epoch 51/100\n",
            "112/112 [==============================] - 0s 2ms/step - loss: 0.3494 - binary_accuracy: 0.8606 - val_loss: 0.3569 - val_binary_accuracy: 0.8543\n",
            "Epoch 52/100\n",
            "112/112 [==============================] - 0s 2ms/step - loss: 0.3601 - binary_accuracy: 0.8545 - val_loss: 0.3559 - val_binary_accuracy: 0.8529\n",
            "Epoch 53/100\n",
            "112/112 [==============================] - 0s 2ms/step - loss: 0.3540 - binary_accuracy: 0.8531 - val_loss: 0.3549 - val_binary_accuracy: 0.8550\n",
            "Epoch 54/100\n",
            "112/112 [==============================] - 0s 2ms/step - loss: 0.3382 - binary_accuracy: 0.8588 - val_loss: 0.3550 - val_binary_accuracy: 0.8571\n",
            "Epoch 55/100\n",
            "112/112 [==============================] - 0s 2ms/step - loss: 0.3606 - binary_accuracy: 0.8469 - val_loss: 0.3558 - val_binary_accuracy: 0.8543\n",
            "Epoch 56/100\n",
            "112/112 [==============================] - 0s 2ms/step - loss: 0.3562 - binary_accuracy: 0.8551 - val_loss: 0.3562 - val_binary_accuracy: 0.8529\n",
            "Epoch 57/100\n",
            "112/112 [==============================] - 0s 2ms/step - loss: 0.3601 - binary_accuracy: 0.8516 - val_loss: 0.3555 - val_binary_accuracy: 0.8550\n",
            "Epoch 58/100\n",
            "112/112 [==============================] - 0s 2ms/step - loss: 0.3650 - binary_accuracy: 0.8507 - val_loss: 0.3556 - val_binary_accuracy: 0.8557\n",
            "Epoch 59/100\n",
            "112/112 [==============================] - 0s 2ms/step - loss: 0.3579 - binary_accuracy: 0.8523 - val_loss: 0.3560 - val_binary_accuracy: 0.8564\n",
            "Epoch 60/100\n",
            "112/112 [==============================] - 0s 2ms/step - loss: 0.3540 - binary_accuracy: 0.8553 - val_loss: 0.3552 - val_binary_accuracy: 0.8550\n",
            "Epoch 61/100\n",
            "112/112 [==============================] - 0s 2ms/step - loss: 0.3456 - binary_accuracy: 0.8605 - val_loss: 0.3555 - val_binary_accuracy: 0.8571\n",
            "Epoch 62/100\n",
            "112/112 [==============================] - 0s 2ms/step - loss: 0.3627 - binary_accuracy: 0.8518 - val_loss: 0.3555 - val_binary_accuracy: 0.8564\n",
            "Epoch 63/100\n",
            "112/112 [==============================] - 0s 2ms/step - loss: 0.3578 - binary_accuracy: 0.8565 - val_loss: 0.3554 - val_binary_accuracy: 0.8586\n",
            "Epoch 64/100\n",
            "112/112 [==============================] - 0s 2ms/step - loss: 0.3660 - binary_accuracy: 0.8500 - val_loss: 0.3553 - val_binary_accuracy: 0.8579\n",
            "Epoch 65/100\n",
            "112/112 [==============================] - 0s 2ms/step - loss: 0.3555 - binary_accuracy: 0.8539 - val_loss: 0.3551 - val_binary_accuracy: 0.8564\n",
            "Epoch 66/100\n",
            "112/112 [==============================] - 0s 2ms/step - loss: 0.3560 - binary_accuracy: 0.8569 - val_loss: 0.3549 - val_binary_accuracy: 0.8571\n",
            "Epoch 67/100\n",
            "112/112 [==============================] - 0s 2ms/step - loss: 0.3393 - binary_accuracy: 0.8639 - val_loss: 0.3549 - val_binary_accuracy: 0.8557\n",
            "Epoch 68/100\n",
            "112/112 [==============================] - 0s 2ms/step - loss: 0.3679 - binary_accuracy: 0.8508 - val_loss: 0.3547 - val_binary_accuracy: 0.8550\n",
            "Epoch 69/100\n",
            "112/112 [==============================] - 0s 2ms/step - loss: 0.3456 - binary_accuracy: 0.8580 - val_loss: 0.3539 - val_binary_accuracy: 0.8564\n",
            "Epoch 70/100\n",
            "112/112 [==============================] - 0s 2ms/step - loss: 0.3499 - binary_accuracy: 0.8552 - val_loss: 0.3536 - val_binary_accuracy: 0.8564\n",
            "Epoch 71/100\n",
            "112/112 [==============================] - 0s 2ms/step - loss: 0.3475 - binary_accuracy: 0.8631 - val_loss: 0.3535 - val_binary_accuracy: 0.8579\n",
            "Epoch 72/100\n",
            "112/112 [==============================] - 0s 2ms/step - loss: 0.3591 - binary_accuracy: 0.8546 - val_loss: 0.3533 - val_binary_accuracy: 0.8564\n",
            "Epoch 73/100\n",
            "112/112 [==============================] - 0s 2ms/step - loss: 0.3565 - binary_accuracy: 0.8535 - val_loss: 0.3536 - val_binary_accuracy: 0.8557\n",
            "Epoch 74/100\n",
            "112/112 [==============================] - 0s 2ms/step - loss: 0.3510 - binary_accuracy: 0.8536 - val_loss: 0.3529 - val_binary_accuracy: 0.8529\n",
            "Epoch 75/100\n",
            "112/112 [==============================] - 0s 2ms/step - loss: 0.3537 - binary_accuracy: 0.8539 - val_loss: 0.3527 - val_binary_accuracy: 0.8571\n",
            "Epoch 76/100\n",
            "112/112 [==============================] - 0s 2ms/step - loss: 0.3490 - binary_accuracy: 0.8579 - val_loss: 0.3523 - val_binary_accuracy: 0.8564\n",
            "Epoch 77/100\n",
            "112/112 [==============================] - 0s 2ms/step - loss: 0.3595 - binary_accuracy: 0.8522 - val_loss: 0.3526 - val_binary_accuracy: 0.8557\n",
            "Epoch 78/100\n",
            "112/112 [==============================] - 0s 2ms/step - loss: 0.3510 - binary_accuracy: 0.8539 - val_loss: 0.3526 - val_binary_accuracy: 0.8564\n",
            "Epoch 79/100\n",
            "112/112 [==============================] - 0s 2ms/step - loss: 0.3456 - binary_accuracy: 0.8602 - val_loss: 0.3519 - val_binary_accuracy: 0.8564\n",
            "Epoch 80/100\n",
            "112/112 [==============================] - 0s 2ms/step - loss: 0.3360 - binary_accuracy: 0.8593 - val_loss: 0.3523 - val_binary_accuracy: 0.8564\n",
            "Epoch 81/100\n",
            "112/112 [==============================] - 0s 2ms/step - loss: 0.3651 - binary_accuracy: 0.8526 - val_loss: 0.3527 - val_binary_accuracy: 0.8571\n",
            "Epoch 82/100\n",
            "112/112 [==============================] - 0s 2ms/step - loss: 0.3389 - binary_accuracy: 0.8634 - val_loss: 0.3522 - val_binary_accuracy: 0.8564\n",
            "Epoch 83/100\n",
            "112/112 [==============================] - 0s 2ms/step - loss: 0.3486 - binary_accuracy: 0.8568 - val_loss: 0.3516 - val_binary_accuracy: 0.8571\n",
            "Epoch 84/100\n",
            "112/112 [==============================] - 0s 2ms/step - loss: 0.3500 - binary_accuracy: 0.8587 - val_loss: 0.3512 - val_binary_accuracy: 0.8579\n",
            "Epoch 85/100\n",
            "112/112 [==============================] - 0s 2ms/step - loss: 0.3497 - binary_accuracy: 0.8510 - val_loss: 0.3511 - val_binary_accuracy: 0.8550\n",
            "Epoch 86/100\n",
            "112/112 [==============================] - 0s 2ms/step - loss: 0.3510 - binary_accuracy: 0.8591 - val_loss: 0.3510 - val_binary_accuracy: 0.8571\n",
            "Epoch 87/100\n",
            "112/112 [==============================] - 0s 2ms/step - loss: 0.3539 - binary_accuracy: 0.8611 - val_loss: 0.3511 - val_binary_accuracy: 0.8607\n",
            "Epoch 88/100\n",
            "112/112 [==============================] - 0s 2ms/step - loss: 0.3407 - binary_accuracy: 0.8686 - val_loss: 0.3505 - val_binary_accuracy: 0.8614\n",
            "Epoch 89/100\n",
            "112/112 [==============================] - 0s 2ms/step - loss: 0.3524 - binary_accuracy: 0.8598 - val_loss: 0.3504 - val_binary_accuracy: 0.8607\n",
            "Epoch 90/100\n",
            "112/112 [==============================] - 0s 2ms/step - loss: 0.3407 - binary_accuracy: 0.8641 - val_loss: 0.3504 - val_binary_accuracy: 0.8593\n",
            "Epoch 91/100\n",
            "112/112 [==============================] - 0s 2ms/step - loss: 0.3556 - binary_accuracy: 0.8570 - val_loss: 0.3496 - val_binary_accuracy: 0.8593\n",
            "Epoch 92/100\n",
            "112/112 [==============================] - 0s 2ms/step - loss: 0.3466 - binary_accuracy: 0.8636 - val_loss: 0.3506 - val_binary_accuracy: 0.8579\n",
            "Epoch 93/100\n",
            "112/112 [==============================] - 0s 2ms/step - loss: 0.3589 - binary_accuracy: 0.8535 - val_loss: 0.3493 - val_binary_accuracy: 0.8593\n",
            "Epoch 94/100\n",
            "112/112 [==============================] - 0s 2ms/step - loss: 0.3375 - binary_accuracy: 0.8615 - val_loss: 0.3489 - val_binary_accuracy: 0.8586\n",
            "Epoch 95/100\n",
            "112/112 [==============================] - 0s 2ms/step - loss: 0.3374 - binary_accuracy: 0.8661 - val_loss: 0.3496 - val_binary_accuracy: 0.8636\n",
            "Epoch 96/100\n",
            "112/112 [==============================] - 0s 2ms/step - loss: 0.3510 - binary_accuracy: 0.8587 - val_loss: 0.3488 - val_binary_accuracy: 0.8607\n",
            "Epoch 97/100\n",
            "112/112 [==============================] - 0s 2ms/step - loss: 0.3404 - binary_accuracy: 0.8617 - val_loss: 0.3487 - val_binary_accuracy: 0.8593\n",
            "Epoch 98/100\n",
            "112/112 [==============================] - 0s 2ms/step - loss: 0.3433 - binary_accuracy: 0.8634 - val_loss: 0.3491 - val_binary_accuracy: 0.8600\n",
            "Epoch 99/100\n",
            "112/112 [==============================] - 0s 2ms/step - loss: 0.3405 - binary_accuracy: 0.8630 - val_loss: 0.3488 - val_binary_accuracy: 0.8607\n",
            "Epoch 100/100\n",
            "112/112 [==============================] - 0s 2ms/step - loss: 0.3413 - binary_accuracy: 0.8613 - val_loss: 0.3481 - val_binary_accuracy: 0.8607\n"
          ],
          "name": "stdout"
        }
      ]
    },
    {
      "cell_type": "code",
      "metadata": {
        "id": "sA6nKH0bukOd"
      },
      "source": [
        "ypred=model.predict(xtest)\n",
        "ypred=np.where(ypred>=0.5,1,0)"
      ],
      "execution_count": null,
      "outputs": []
    },
    {
      "cell_type": "code",
      "metadata": {
        "colab": {
          "base_uri": "https://localhost:8080/"
        },
        "id": "c4-qwdmFukOe",
        "outputId": "0f34832b-2d56-4917-9d85-8c165a0c16aa"
      },
      "source": [
        "ypred"
      ],
      "execution_count": null,
      "outputs": [
        {
          "output_type": "execute_result",
          "data": {
            "text/plain": [
              "array([[0],\n",
              "       [0],\n",
              "       [0],\n",
              "       ...,\n",
              "       [0],\n",
              "       [0],\n",
              "       [1]])"
            ]
          },
          "metadata": {
            "tags": []
          },
          "execution_count": 302
        }
      ]
    },
    {
      "cell_type": "code",
      "metadata": {
        "id": "_Al6jdIlukOe"
      },
      "source": [
        "import matplotlib.pyplot as plt"
      ],
      "execution_count": null,
      "outputs": []
    },
    {
      "cell_type": "code",
      "metadata": {
        "colab": {
          "base_uri": "https://localhost:8080/",
          "height": 282
        },
        "id": "9a3chnQ_ukOe",
        "outputId": "04943a80-aa70-486c-d422-828546bc7525"
      },
      "source": [
        "plt.plot(trainedmodel.history[\"loss\"],'g')\n",
        "plt.plot(trainedmodel.history[\"val_loss\"],'b')"
      ],
      "execution_count": null,
      "outputs": [
        {
          "output_type": "execute_result",
          "data": {
            "text/plain": [
              "[<matplotlib.lines.Line2D at 0x7f6a0f9464d0>]"
            ]
          },
          "metadata": {
            "tags": []
          },
          "execution_count": 304
        },
        {
          "output_type": "display_data",
          "data": {
            "image/png": "[encoded data removed]",
            "text/plain": [
              "<Figure size 432x288 with 1 Axes>"
            ]
          },
          "metadata": {
            "tags": [],
            "needs_background": "light"
          }
        }
      ]
    },
    {
      "cell_type": "code",
      "metadata": {
        "colab": {
          "base_uri": "https://localhost:8080/"
        },
        "id": "mRqOKBvxukOf",
        "outputId": "abeac35e-6bb7-4765-e708-667bcf437902"
      },
      "source": [
        "plt.plot(trainedmodel.history[\"binary_accuracy\"],'g')\n",
        "plt.plot(trainedmodel.history[\"val_binary_accuracy\"],'b')"
      ],
      "execution_count": null,
      "outputs": [
        {
          "output_type": "execute_result",
          "data": {
            "text/plain": [
              "[<matplotlib.lines.Line2D at 0x7f6a0f314dd0>]"
            ]
          },
          "metadata": {
            "tags": []
          },
          "execution_count": 305
        },
        {
          "output_type": "display_data",
          "data": {
            "image/png": "[encoded data removed]",
            "text/plain": [
              "<Figure size 432x288 with 1 Axes>"
            ]
          },
          "metadata": {
            "tags": [],
            "needs_background": "light"
          }
        }
      ]
    },
    {
      "cell_type": "code",
      "metadata": {
        "colab": {
          "base_uri": "https://localhost:8080/"
        },
        "id": "GR052epVukOf",
        "outputId": "02009645-eb2e-4972-dfcd-a5e56d7a3453"
      },
      "source": [
        "trainedmodel.history"
      ],
      "execution_count": null,
      "outputs": [
        {
          "output_type": "execute_result",
          "data": {
            "text/plain": [
              "{'binary_accuracy': [0.6878571510314941,\n",
              "  0.7880356907844543,\n",
              "  0.7933928370475769,\n",
              "  0.798035740852356,\n",
              "  0.800000011920929,\n",
              "  0.8033928275108337,\n",
              "  0.808571457862854,\n",
              "  0.8178571462631226,\n",
              "  0.8198214173316956,\n",
              "  0.8246428370475769,\n",
              "  0.824821412563324,\n",
              "  0.8299999833106995,\n",
              "  0.831250011920929,\n",
              "  0.8349999785423279,\n",
              "  0.8348214030265808,\n",
              "  0.8428571224212646,\n",
              "  0.8399999737739563,\n",
              "  0.8392857313156128,\n",
              "  0.8439285755157471,\n",
              "  0.8466071486473083,\n",
              "  0.8419643044471741,\n",
              "  0.8462499976158142,\n",
              "  0.84375,\n",
              "  0.8458928465843201,\n",
              "  0.8482142686843872,\n",
              "  0.8483928442001343,\n",
              "  0.8480356931686401,\n",
              "  0.8475000262260437,\n",
              "  0.8480356931686401,\n",
              "  0.8489285707473755,\n",
              "  0.8492857217788696,\n",
              "  0.8483928442001343,\n",
              "  0.8483928442001343,\n",
              "  0.8512499928474426,\n",
              "  0.8491071462631226,\n",
              "  0.8485714197158813,\n",
              "  0.8519642949104309,\n",
              "  0.8507142663002014,\n",
              "  0.8487499952316284,\n",
              "  0.8514285683631897,\n",
              "  0.8517857193946838,\n",
              "  0.8514285683631897,\n",
              "  0.8507142663002014,\n",
              "  0.8533928394317627,\n",
              "  0.8535714149475098,\n",
              "  0.8507142663002014,\n",
              "  0.850178599357605,\n",
              "  0.8537499904632568,\n",
              "  0.8516071438789368,\n",
              "  0.8532142639160156,\n",
              "  0.854107141494751,\n",
              "  0.852321445941925,\n",
              "  0.8519642949104309,\n",
              "  0.8551785945892334,\n",
              "  0.8539285659790039,\n",
              "  0.8535714149475098,\n",
              "  0.8544642925262451,\n",
              "  0.8566071391105652,\n",
              "  0.8573214411735535,\n",
              "  0.8548214435577393,\n",
              "  0.858214259147644,\n",
              "  0.854107141494751,\n",
              "  0.8546428680419922,\n",
              "  0.8578571677207947,\n",
              "  0.8548214435577393,\n",
              "  0.8557142615318298,\n",
              "  0.8551785945892334,\n",
              "  0.8569642901420593,\n",
              "  0.8578571677207947,\n",
              "  0.8558928370475769,\n",
              "  0.8580357432365417,\n",
              "  0.8575000166893005,\n",
              "  0.8569642901420593,\n",
              "  0.8567857146263123,\n",
              "  0.8567857146263123,\n",
              "  0.8594642877578735,\n",
              "  0.8576785922050476,\n",
              "  0.8557142615318298,\n",
              "  0.8576785922050476,\n",
              "  0.856071412563324,\n",
              "  0.8591071367263794,\n",
              "  0.858214259147644,\n",
              "  0.8558928370475769,\n",
              "  0.8596428632736206,\n",
              "  0.8583928346633911,\n",
              "  0.8589285612106323,\n",
              "  0.8596428632736206,\n",
              "  0.8614285588264465,\n",
              "  0.8612499833106995,\n",
              "  0.8600000143051147,\n",
              "  0.8610714077949524,\n",
              "  0.8612499833106995,\n",
              "  0.8601785898208618,\n",
              "  0.8573214411735535,\n",
              "  0.862500011920929,\n",
              "  0.8585714101791382,\n",
              "  0.8617857098579407,\n",
              "  0.862500011920929,\n",
              "  0.8603571653366089,\n",
              "  0.862678587436676],\n",
              " 'loss': [0.635059118270874,\n",
              "  0.5282353162765503,\n",
              "  0.4910072088241577,\n",
              "  0.4705258905887604,\n",
              "  0.4554142951965332,\n",
              "  0.44675764441490173,\n",
              "  0.44073450565338135,\n",
              "  0.425498366355896,\n",
              "  0.42203953862190247,\n",
              "  0.413067489862442,\n",
              "  0.4041268527507782,\n",
              "  0.39845436811447144,\n",
              "  0.39533740282058716,\n",
              "  0.38520142436027527,\n",
              "  0.38635656237602234,\n",
              "  0.37937870621681213,\n",
              "  0.3806268870830536,\n",
              "  0.3797471523284912,\n",
              "  0.3758057951927185,\n",
              "  0.37316906452178955,\n",
              "  0.3759993314743042,\n",
              "  0.3714563846588135,\n",
              "  0.3710363805294037,\n",
              "  0.37088680267333984,\n",
              "  0.36733171343803406,\n",
              "  0.3683020770549774,\n",
              "  0.3683699369430542,\n",
              "  0.3626752197742462,\n",
              "  0.3649684190750122,\n",
              "  0.36714980006217957,\n",
              "  0.367252379655838,\n",
              "  0.365723580121994,\n",
              "  0.36681175231933594,\n",
              "  0.36090001463890076,\n",
              "  0.3665712773799896,\n",
              "  0.3620204031467438,\n",
              "  0.362621009349823,\n",
              "  0.36247533559799194,\n",
              "  0.3629094660282135,\n",
              "  0.3584619462490082,\n",
              "  0.36092475056648254,\n",
              "  0.3617992401123047,\n",
              "  0.3603838384151459,\n",
              "  0.35708945989608765,\n",
              "  0.35954993963241577,\n",
              "  0.36152851581573486,\n",
              "  0.3564811944961548,\n",
              "  0.35782772302627563,\n",
              "  0.3567897379398346,\n",
              "  0.3557329475879669,\n",
              "  0.3589215874671936,\n",
              "  0.35861629247665405,\n",
              "  0.35674914717674255,\n",
              "  0.35370951890945435,\n",
              "  0.35304442048072815,\n",
              "  0.3559286594390869,\n",
              "  0.358136385679245,\n",
              "  0.35370299220085144,\n",
              "  0.35269051790237427,\n",
              "  0.3529552221298218,\n",
              "  0.35066792368888855,\n",
              "  0.356403648853302,\n",
              "  0.3592015206813812,\n",
              "  0.34988316893577576,\n",
              "  0.35465559363365173,\n",
              "  0.34969526529312134,\n",
              "  0.3502157926559448,\n",
              "  0.35205137729644775,\n",
              "  0.3494097590446472,\n",
              "  0.3494558036327362,\n",
              "  0.350630521774292,\n",
              "  0.3518593907356262,\n",
              "  0.35113704204559326,\n",
              "  0.35067513585090637,\n",
              "  0.35061877965927124,\n",
              "  0.3466634750366211,\n",
              "  0.34812796115875244,\n",
              "  0.35065045952796936,\n",
              "  0.3491850793361664,\n",
              "  0.34934571385383606,\n",
              "  0.348394513130188,\n",
              "  0.3476647436618805,\n",
              "  0.351040244102478,\n",
              "  0.3469175100326538,\n",
              "  0.34618958830833435,\n",
              "  0.3463481664657593,\n",
              "  0.3480234444141388,\n",
              "  0.3434009850025177,\n",
              "  0.34419944882392883,\n",
              "  0.3451569080352783,\n",
              "  0.3446953594684601,\n",
              "  0.3429100811481476,\n",
              "  0.34886226058006287,\n",
              "  0.3453530967235565,\n",
              "  0.3411825895309448,\n",
              "  0.34416893124580383,\n",
              "  0.3410935699939728,\n",
              "  0.34185290336608887,\n",
              "  0.34383830428123474,\n",
              "  0.34139367938041687],\n",
              " 'val_binary_accuracy': [0.7921428680419922,\n",
              "  0.800000011920929,\n",
              "  0.7992857098579407,\n",
              "  0.7992857098579407,\n",
              "  0.8007143139839172,\n",
              "  0.8028571605682373,\n",
              "  0.8050000071525574,\n",
              "  0.8114285469055176,\n",
              "  0.8185714483261108,\n",
              "  0.829285740852356,\n",
              "  0.831428587436676,\n",
              "  0.8264285922050476,\n",
              "  0.8342857360839844,\n",
              "  0.8342857360839844,\n",
              "  0.8385714292526245,\n",
              "  0.8399999737739563,\n",
              "  0.8442857265472412,\n",
              "  0.8442857265472412,\n",
              "  0.8464285731315613,\n",
              "  0.8485714197158813,\n",
              "  0.8478571176528931,\n",
              "  0.8500000238418579,\n",
              "  0.8485714197158813,\n",
              "  0.8514285683631897,\n",
              "  0.8478571176528931,\n",
              "  0.8500000238418579,\n",
              "  0.8507142663002014,\n",
              "  0.8507142663002014,\n",
              "  0.8492857217788696,\n",
              "  0.8500000238418579,\n",
              "  0.8507142663002014,\n",
              "  0.852142870426178,\n",
              "  0.8514285683631897,\n",
              "  0.8507142663002014,\n",
              "  0.852142870426178,\n",
              "  0.852142870426178,\n",
              "  0.8528571724891663,\n",
              "  0.852142870426178,\n",
              "  0.8535714149475098,\n",
              "  0.8485714197158813,\n",
              "  0.8528571724891663,\n",
              "  0.8485714197158813,\n",
              "  0.852142870426178,\n",
              "  0.8528571724891663,\n",
              "  0.8514285683631897,\n",
              "  0.8528571724891663,\n",
              "  0.854285717010498,\n",
              "  0.8528571724891663,\n",
              "  0.8528571724891663,\n",
              "  0.8550000190734863,\n",
              "  0.854285717010498,\n",
              "  0.8528571724891663,\n",
              "  0.8550000190734863,\n",
              "  0.8571428656578064,\n",
              "  0.854285717010498,\n",
              "  0.8528571724891663,\n",
              "  0.8550000190734863,\n",
              "  0.8557142615318298,\n",
              "  0.8564285635948181,\n",
              "  0.8550000190734863,\n",
              "  0.8571428656578064,\n",
              "  0.8564285635948181,\n",
              "  0.8585714101791382,\n",
              "  0.8578571677207947,\n",
              "  0.8564285635948181,\n",
              "  0.8571428656578064,\n",
              "  0.8557142615318298,\n",
              "  0.8550000190734863,\n",
              "  0.8564285635948181,\n",
              "  0.8564285635948181,\n",
              "  0.8578571677207947,\n",
              "  0.8564285635948181,\n",
              "  0.8557142615318298,\n",
              "  0.8528571724891663,\n",
              "  0.8571428656578064,\n",
              "  0.8564285635948181,\n",
              "  0.8557142615318298,\n",
              "  0.8564285635948181,\n",
              "  0.8564285635948181,\n",
              "  0.8564285635948181,\n",
              "  0.8571428656578064,\n",
              "  0.8564285635948181,\n",
              "  0.8571428656578064,\n",
              "  0.8578571677207947,\n",
              "  0.8550000190734863,\n",
              "  0.8571428656578064,\n",
              "  0.8607142567634583,\n",
              "  0.8614285588264465,\n",
              "  0.8607142567634583,\n",
              "  0.8592857122421265,\n",
              "  0.8592857122421265,\n",
              "  0.8578571677207947,\n",
              "  0.8592857122421265,\n",
              "  0.8585714101791382,\n",
              "  0.8635714054107666,\n",
              "  0.8607142567634583,\n",
              "  0.8592857122421265,\n",
              "  0.8600000143051147,\n",
              "  0.8607142567634583,\n",
              "  0.8607142567634583],\n",
              " 'val_loss': [0.5499841570854187,\n",
              "  0.4833340346813202,\n",
              "  0.45753997564315796,\n",
              "  0.44374555349349976,\n",
              "  0.4357960820198059,\n",
              "  0.4286397099494934,\n",
              "  0.42288216948509216,\n",
              "  0.41546115279197693,\n",
              "  0.40623024106025696,\n",
              "  0.3969820737838745,\n",
              "  0.3898162841796875,\n",
              "  0.38430002331733704,\n",
              "  0.38012608885765076,\n",
              "  0.37698498368263245,\n",
              "  0.37393128871917725,\n",
              "  0.3709913492202759,\n",
              "  0.3694843053817749,\n",
              "  0.3679671883583069,\n",
              "  0.36633312702178955,\n",
              "  0.3649372160434723,\n",
              "  0.36459600925445557,\n",
              "  0.3638894557952881,\n",
              "  0.3637116849422455,\n",
              "  0.3623977303504944,\n",
              "  0.36198851466178894,\n",
              "  0.3612414300441742,\n",
              "  0.3605428636074066,\n",
              "  0.36066901683807373,\n",
              "  0.36107057332992554,\n",
              "  0.3601057529449463,\n",
              "  0.3606991767883301,\n",
              "  0.36001652479171753,\n",
              "  0.3595186173915863,\n",
              "  0.3593892753124237,\n",
              "  0.3593560457229614,\n",
              "  0.3592419922351837,\n",
              "  0.358893483877182,\n",
              "  0.35883989930152893,\n",
              "  0.3585563600063324,\n",
              "  0.35883885622024536,\n",
              "  0.3578684628009796,\n",
              "  0.35855820775032043,\n",
              "  0.35888922214508057,\n",
              "  0.3578459322452545,\n",
              "  0.3580600321292877,\n",
              "  0.3572659194469452,\n",
              "  0.3568283021450043,\n",
              "  0.3571714162826538,\n",
              "  0.35718271136283875,\n",
              "  0.35644128918647766,\n",
              "  0.3568754494190216,\n",
              "  0.35593488812446594,\n",
              "  0.35488155484199524,\n",
              "  0.3550070524215698,\n",
              "  0.35579776763916016,\n",
              "  0.3561522662639618,\n",
              "  0.3554688096046448,\n",
              "  0.35559070110321045,\n",
              "  0.35603681206703186,\n",
              "  0.355234295129776,\n",
              "  0.35551416873931885,\n",
              "  0.35548797249794006,\n",
              "  0.3554483950138092,\n",
              "  0.35527846217155457,\n",
              "  0.35514378547668457,\n",
              "  0.3549135625362396,\n",
              "  0.3548809289932251,\n",
              "  0.35472872853279114,\n",
              "  0.3539266586303711,\n",
              "  0.353606641292572,\n",
              "  0.35349172353744507,\n",
              "  0.3533177971839905,\n",
              "  0.3535590171813965,\n",
              "  0.35293498635292053,\n",
              "  0.35270076990127563,\n",
              "  0.35226890444755554,\n",
              "  0.35256579518318176,\n",
              "  0.35264599323272705,\n",
              "  0.35194075107574463,\n",
              "  0.35226744413375854,\n",
              "  0.3526741564273834,\n",
              "  0.3522178530693054,\n",
              "  0.3515518307685852,\n",
              "  0.35116374492645264,\n",
              "  0.3510560691356659,\n",
              "  0.3510061800479889,\n",
              "  0.35112622380256653,\n",
              "  0.3504830598831177,\n",
              "  0.35041776299476624,\n",
              "  0.3504214584827423,\n",
              "  0.34964001178741455,\n",
              "  0.35059255361557007,\n",
              "  0.3493140935897827,\n",
              "  0.3489000201225281,\n",
              "  0.34964486956596375,\n",
              "  0.3487786650657654,\n",
              "  0.34865549206733704,\n",
              "  0.3490866422653198,\n",
              "  0.34876155853271484,\n",
              "  0.3481118679046631]}"
            ]
          },
          "metadata": {
            "tags": []
          },
          "execution_count": 306
        }
      ]
    },
    {
      "cell_type": "code",
      "metadata": {
        "id": "x9kp9jQLukOg"
      },
      "source": [
        "from sklearn.metrics import classification_report"
      ],
      "execution_count": null,
      "outputs": []
    },
    {
      "cell_type": "code",
      "metadata": {
        "colab": {
          "base_uri": "https://localhost:8080/"
        },
        "id": "lmuSzjFMukOg",
        "outputId": "1e081f95-e167-43eb-b7ae-a6aca729364a"
      },
      "source": [
        "print(classification_report(ytest,ypred))"
      ],
      "execution_count": null,
      "outputs": [
        {
          "output_type": "stream",
          "text": [
            "              precision    recall  f1-score   support\n",
            "\n",
            "           0       0.87      0.96      0.91      2379\n",
            "           1       0.75      0.46      0.57       621\n",
            "\n",
            "    accuracy                           0.86      3000\n",
            "   macro avg       0.81      0.71      0.74      3000\n",
            "weighted avg       0.85      0.86      0.84      3000\n",
            "\n"
          ],
          "name": "stdout"
        }
      ]
    }
  ]
}